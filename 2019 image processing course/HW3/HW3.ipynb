{
 "cells": [
  {
   "cell_type": "markdown",
   "metadata": {},
   "source": [
    "<h1 align='center'><font color='purple'>Image processing course, project 3:</font></h1>\n",
    "<h3 align='center'><font color='purple'>Matrix manipulations</font></h3>"
   ]
  },
  {
   "cell_type": "markdown",
   "metadata": {},
   "source": [
    "<h4 align='left'><font color=blue>Name: </font>陳昆毅</h4>\n",
    "<h4 align='left'><font color=blue>ID: </font>108121003</h4>"
   ]
  },
  {
   "cell_type": "code",
   "execution_count": 0,
   "metadata": {
    "colab": {},
    "colab_type": "code",
    "id": "zNrw5FyysrAZ"
   },
   "outputs": [],
   "source": [
    "import numpy as np\n",
    "a = np.array([[1,2,3], [5,6,7], [9,10,11]])\n",
    "b = np.array([[5,1,2], [4,9,3], [6,8,7]])"
   ]
  },
  {
   "cell_type": "code",
   "execution_count": 4,
   "metadata": {
    "colab": {
     "base_uri": "https://localhost:8080/",
     "height": 68
    },
    "colab_type": "code",
    "executionInfo": {
     "elapsed": 966,
     "status": "ok",
     "timestamp": 1572859392492,
     "user": {
      "displayName": "Kun-Yi Chen",
      "photoUrl": "https://lh6.googleusercontent.com/-KX6KQzNVl5A/AAAAAAAAAAI/AAAAAAAAAGE/A5TObvPYGaQ/s64/photo.jpg",
      "userId": "12048986946604963123"
     },
     "user_tz": -480
    },
    "id": "AKlMWEUZuVHS",
    "outputId": "9cdc2d68-2cf9-4917-8b19-f0fede76cf0d"
   },
   "outputs": [
    {
     "data": {
      "text/plain": [
       "array([[ 1,  2,  3],\n",
       "       [ 5,  6,  7],\n",
       "       [ 9, 10, 11]])"
      ]
     },
     "execution_count": 4,
     "metadata": {
      "tags": []
     },
     "output_type": "execute_result"
    }
   ],
   "source": [
    "a"
   ]
  },
  {
   "cell_type": "code",
   "execution_count": 5,
   "metadata": {
    "colab": {
     "base_uri": "https://localhost:8080/",
     "height": 68
    },
    "colab_type": "code",
    "executionInfo": {
     "elapsed": 993,
     "status": "ok",
     "timestamp": 1572859392986,
     "user": {
      "displayName": "Kun-Yi Chen",
      "photoUrl": "https://lh6.googleusercontent.com/-KX6KQzNVl5A/AAAAAAAAAAI/AAAAAAAAAGE/A5TObvPYGaQ/s64/photo.jpg",
      "userId": "12048986946604963123"
     },
     "user_tz": -480
    },
    "id": "2o1DZjK1uV7U",
    "outputId": "d46c2787-f46a-4ff7-8781-229550db4dbf"
   },
   "outputs": [
    {
     "data": {
      "text/plain": [
       "array([[5, 1, 2],\n",
       "       [4, 9, 3],\n",
       "       [6, 8, 7]])"
      ]
     },
     "execution_count": 5,
     "metadata": {
      "tags": []
     },
     "output_type": "execute_result"
    }
   ],
   "source": [
    "b"
   ]
  },
  {
   "cell_type": "markdown",
   "metadata": {
    "colab_type": "text",
    "id": "Op3k7TWLuinO"
   },
   "source": [
    "## 1. Matrix operation"
   ]
  },
  {
   "cell_type": "markdown",
   "metadata": {
    "colab_type": "text",
    "id": "rFV1836zu3zO"
   },
   "source": [
    "### summation\n",
    "\n",
    "\n"
   ]
  },
  {
   "cell_type": "code",
   "execution_count": 6,
   "metadata": {
    "colab": {
     "base_uri": "https://localhost:8080/",
     "height": 68
    },
    "colab_type": "code",
    "executionInfo": {
     "elapsed": 1157,
     "status": "ok",
     "timestamp": 1572859493572,
     "user": {
      "displayName": "Kun-Yi Chen",
      "photoUrl": "https://lh6.googleusercontent.com/-KX6KQzNVl5A/AAAAAAAAAAI/AAAAAAAAAGE/A5TObvPYGaQ/s64/photo.jpg",
      "userId": "12048986946604963123"
     },
     "user_tz": -480
    },
    "id": "ctfLStSvuWhM",
    "outputId": "bc3db3ff-40c0-4489-f319-4e293421036d"
   },
   "outputs": [
    {
     "name": "stdout",
     "output_type": "stream",
     "text": [
      "[[ 6  3  5]\n",
      " [ 9 15 10]\n",
      " [15 18 18]]\n"
     ]
    }
   ],
   "source": [
    "print(np.add(a, b))"
   ]
  },
  {
   "cell_type": "markdown",
   "metadata": {
    "colab_type": "text",
    "id": "2fBurd3HvO-W"
   },
   "source": [
    "### subtraction"
   ]
  },
  {
   "cell_type": "code",
   "execution_count": 7,
   "metadata": {
    "colab": {
     "base_uri": "https://localhost:8080/",
     "height": 68
    },
    "colab_type": "code",
    "executionInfo": {
     "elapsed": 950,
     "status": "ok",
     "timestamp": 1572859629631,
     "user": {
      "displayName": "Kun-Yi Chen",
      "photoUrl": "https://lh6.googleusercontent.com/-KX6KQzNVl5A/AAAAAAAAAAI/AAAAAAAAAGE/A5TObvPYGaQ/s64/photo.jpg",
      "userId": "12048986946604963123"
     },
     "user_tz": -480
    },
    "id": "f1OpEW6KuzgF",
    "outputId": "9ec303fd-21a3-45d8-bfe1-e880b3163326"
   },
   "outputs": [
    {
     "name": "stdout",
     "output_type": "stream",
     "text": [
      "[[-4  1  1]\n",
      " [ 1 -3  4]\n",
      " [ 3  2  4]]\n"
     ]
    }
   ],
   "source": [
    "print(np.subtract(a, b))"
   ]
  },
  {
   "cell_type": "markdown",
   "metadata": {
    "colab_type": "text",
    "id": "8auHuRS8vard"
   },
   "source": [
    "### division"
   ]
  },
  {
   "cell_type": "code",
   "execution_count": 8,
   "metadata": {
    "colab": {
     "base_uri": "https://localhost:8080/",
     "height": 68
    },
    "colab_type": "code",
    "executionInfo": {
     "elapsed": 890,
     "status": "ok",
     "timestamp": 1572859681935,
     "user": {
      "displayName": "Kun-Yi Chen",
      "photoUrl": "https://lh6.googleusercontent.com/-KX6KQzNVl5A/AAAAAAAAAAI/AAAAAAAAAGE/A5TObvPYGaQ/s64/photo.jpg",
      "userId": "12048986946604963123"
     },
     "user_tz": -480
    },
    "id": "pZvHQccsvUot",
    "outputId": "941cb252-88d6-4cbb-a99d-2fecd370a0f7"
   },
   "outputs": [
    {
     "name": "stdout",
     "output_type": "stream",
     "text": [
      "[[0.2        2.         1.5       ]\n",
      " [1.25       0.66666667 2.33333333]\n",
      " [1.5        1.25       1.57142857]]\n"
     ]
    }
   ],
   "source": [
    "print(np.divide(a, b))"
   ]
  },
  {
   "cell_type": "markdown",
   "metadata": {
    "colab_type": "text",
    "id": "PyrEKQ-QvkqG"
   },
   "source": [
    "### elementwise product"
   ]
  },
  {
   "cell_type": "code",
   "execution_count": 9,
   "metadata": {
    "colab": {
     "base_uri": "https://localhost:8080/",
     "height": 68
    },
    "colab_type": "code",
    "executionInfo": {
     "elapsed": 833,
     "status": "ok",
     "timestamp": 1572859722867,
     "user": {
      "displayName": "Kun-Yi Chen",
      "photoUrl": "https://lh6.googleusercontent.com/-KX6KQzNVl5A/AAAAAAAAAAI/AAAAAAAAAGE/A5TObvPYGaQ/s64/photo.jpg",
      "userId": "12048986946604963123"
     },
     "user_tz": -480
    },
    "id": "fcRQlozyvhaV",
    "outputId": "0af7f985-a35e-4ab1-e03d-4dea397597ac"
   },
   "outputs": [
    {
     "name": "stdout",
     "output_type": "stream",
     "text": [
      "[[ 5  2  6]\n",
      " [20 54 21]\n",
      " [54 80 77]]\n"
     ]
    }
   ],
   "source": [
    "print(np.multiply(a, b))"
   ]
  },
  {
   "cell_type": "markdown",
   "metadata": {
    "colab_type": "text",
    "id": "m4W8Zw-Av47M"
   },
   "source": [
    "### matrix product"
   ]
  },
  {
   "cell_type": "code",
   "execution_count": 10,
   "metadata": {
    "colab": {
     "base_uri": "https://localhost:8080/",
     "height": 68
    },
    "colab_type": "code",
    "executionInfo": {
     "elapsed": 964,
     "status": "ok",
     "timestamp": 1572859856832,
     "user": {
      "displayName": "Kun-Yi Chen",
      "photoUrl": "https://lh6.googleusercontent.com/-KX6KQzNVl5A/AAAAAAAAAAI/AAAAAAAAAGE/A5TObvPYGaQ/s64/photo.jpg",
      "userId": "12048986946604963123"
     },
     "user_tz": -480
    },
    "id": "p6s8c5XFvrj9",
    "outputId": "5b477cf4-9ea7-4448-c9ec-b4533d533a31"
   },
   "outputs": [
    {
     "name": "stdout",
     "output_type": "stream",
     "text": [
      "[[ 31  43  29]\n",
      " [ 91 115  77]\n",
      " [151 187 125]]\n"
     ]
    }
   ],
   "source": [
    "print(np.dot(a, b))"
   ]
  },
  {
   "cell_type": "markdown",
   "metadata": {
    "colab": {},
    "colab_type": "code",
    "id": "8lYAPpjcwMPF"
   },
   "source": [
    "## 2. Image affine transformation"
   ]
  },
  {
   "cell_type": "code",
   "execution_count": 9,
   "metadata": {},
   "outputs": [
    {
     "data": {
      "image/png": "[encoded data removed]",
      "text/plain": [
       "<Figure size 432x288 with 1 Axes>"
      ]
     },
     "metadata": {
      "needs_background": "light"
     },
     "output_type": "display_data"
    }
   ],
   "source": [
    "from matplotlib import pyplot as plt\n",
    "from skimage import data\n",
    "from skimage.feature import corner_harris, corner_subpix, corner_peaks\n",
    "from skimage.transform import warp, AffineTransform\n",
    "\n",
    "\n",
    "tform = AffineTransform(scale=(1.3, 1.1), rotation=1, shear=0.7,\n",
    "                        translation=(210, 50))\n",
    "image = warp(data.checkerboard(), tform.inverse, \n",
    "             output_shape=(350, 350))\n",
    "\n",
    "coords = corner_peaks(corner_harris(image), min_distance=5)\n",
    "coords_subpix = corner_subpix(image, coords, window_size=13)\n",
    "\n",
    "plt.gray()\n",
    "plt.imshow(image, interpolation='nearest')\n",
    "plt.plot(coords_subpix[:, 1], coords_subpix[:, 0], '+r', \n",
    "         markersize=15, mew=5)\n",
    "plt.plot(coords[:, 1], coords[:, 0], '.b', markersize=7)\n",
    "plt.axis('off')\n",
    "plt.show()"
   ]
  },
  {
   "cell_type": "code",
   "execution_count": null,
   "metadata": {},
   "outputs": [],
   "source": []
  }
 ],
 "metadata": {
  "colab": {
   "collapsed_sections": [],
   "name": "影像處理",
   "provenance": []
  },
  "kernelspec": {
   "display_name": "Python 3",
   "language": "python",
   "name": "python3"
  },
  "language_info": {
   "codemirror_mode": {
    "name": "ipython",
    "version": 3
   },
   "file_extension": ".py",
   "mimetype": "text/x-python",
   "name": "python",
   "nbconvert_exporter": "python",
   "pygments_lexer": "ipython3",
   "version": "3.7.4"
  }
 },
 "nbformat": 4,
 "nbformat_minor": 1
}
