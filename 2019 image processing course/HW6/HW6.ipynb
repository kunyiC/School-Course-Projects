{
 "cells": [
  {
   "cell_type": "markdown",
   "metadata": {},
   "source": [
    "Digitial watermarking info:\n",
    "\n",
    "1. https://pythonhosted.org/watermarks/#id1\n",
    "\n",
    "2. https://en.wikipedia.org/wiki/Digital_watermarking"
   ]
  },
  {
   "cell_type": "code",
   "execution_count": null,
   "metadata": {},
   "outputs": [],
   "source": []
  }
 ],
 "metadata": {
  "kernelspec": {
   "display_name": "Python 3",
   "language": "python",
   "name": "python3"
  },
  "language_info": {
   "codemirror_mode": {
    "name": "ipython",
    "version": 3
   },
   "file_extension": ".py",
   "mimetype": "text/x-python",
   "name": "python",
   "nbconvert_exporter": "python",
   "pygments_lexer": "ipython3",
   "version": "3.7.5"
  }
 },
 "nbformat": 4,
 "nbformat_minor": 2
}
