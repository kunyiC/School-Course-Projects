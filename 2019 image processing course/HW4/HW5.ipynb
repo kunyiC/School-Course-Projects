{
 "cells": [
  {
   "cell_type": "markdown",
   "metadata": {},
   "source": [
    "<h4 align='left'><font color=blue>Name: </font>陳昆毅</h4>\n",
    "<h4 align='left'><font color=blue>ID: </font>108121003</h4>"
   ]
  },
  {
   "cell_type": "markdown",
   "metadata": {},
   "source": [
    "<h3 align='left'><font color='brown'>Outline of the program: </font></h3>\n",
    "\n",
    "Example \n",
    "   - 1.1 Forward discrete cosine transformation \n",
    "   - 1.2 Inverse discrete cosine transformation"
   ]
  },
  {
   "cell_type": "markdown",
   "metadata": {},
   "source": [
    "## Example"
   ]
  },
  {
   "cell_type": "code",
   "execution_count": 32,
   "metadata": {},
   "outputs": [
    {
     "data": {
      "image/png": "[encoded data removed]",
      "text/plain": [
       "<Figure size 432x288 with 1 Axes>"
      ]
     },
     "metadata": {
      "needs_background": "light"
     },
     "output_type": "display_data"
    }
   ],
   "source": [
    "import matplotlib.pyplot as plt\n",
    "import numpy as np\n",
    "\n",
    "X = np.array([[154, 123, 123, 123, 123, 123, 123, 136],\n",
    "              [192, 180, 136, 154, 154, 154, 136, 110],\n",
    "              [254, 198, 154, 154, 180, 154, 123, 123],\n",
    "              [239, 180, 136, 180, 180, 166, 123, 123],\n",
    "              [180, 154, 136, 167, 166, 149, 136, 136],\n",
    "              [128, 136, 123, 136, 154, 180, 198, 154],\n",
    "              [123, 105, 110, 149, 136, 136, 180, 166],\n",
    "              [110, 136, 123, 123, 123, 136, 154, 136]]) \n",
    "\n",
    "plt.imshow(X, cmap=\"gray\")\n",
    "plt.show()"
   ]
  },
  {
   "cell_type": "code",
   "execution_count": 33,
   "metadata": {},
   "outputs": [],
   "source": [
    "X_minus_128 = np.array([[26, -5, -5, -5, -5, -5, -5, 8],\n",
    "                        [64, 52, 8, 26, 26, 26, 8, -18],\n",
    "                        [126, 70, 26, 26, 52, 26, -5, -5],\n",
    "                        [111, 52, 8, 52, 52, 38, -5, -5],\n",
    "                        [52, 26, 8, 39, 38, 21, 8, 8],\n",
    "                        [0, 8, -5, 8, 26, 52, 70, 26],\n",
    "                        [-5, -23, -18, 21, 8, 8, 52, 38],\n",
    "                        [-18, 8, -5, -5, -5, 8, 26, 8]]) "
   ]
  },
  {
   "cell_type": "markdown",
   "metadata": {},
   "source": [
    "### 1.1 Forward discrete cosine transformation"
   ]
  },
  {
   "cell_type": "code",
   "execution_count": 34,
   "metadata": {},
   "outputs": [
    {
     "name": "stdout",
     "output_type": "stream",
     "text": [
      "[[ 2.05600000e+03  3.53082701e+01  8.13013989e+01  2.99329060e+01\n",
      "   6.22253967e+01  2.00005284e+01  3.36761420e+01  7.02325159e+00]\n",
      " [ 2.43200000e+03  2.14017583e+02  8.81298409e+00  1.54501338e+02\n",
      "   5.65685425e+00 -2.21883805e+00 -5.26339369e+01 -4.68282737e+01]\n",
      " [ 2.68000000e+03  3.71541489e+02  8.94034090e+01  2.17471142e+02\n",
      "   1.15965512e+02 -4.47948108e+01  8.88990734e+00  1.87789640e+01]\n",
      " [ 2.65400000e+03  2.88995507e+02  4.46088499e+00  2.29507770e+02\n",
      "   1.65462987e+02  5.37735277e+00 -3.17025336e-01 -6.79622286e+01]\n",
      " [ 2.44800000e+03  1.02187365e+02 -2.75850698e+01  9.05353511e+01\n",
      "   1.04651804e+02  1.01725013e+01 -2.22500320e+01 -2.64123605e+01]\n",
      " [ 2.41800000e+03 -2.24461325e+02  8.94430029e+00  1.12764830e+02\n",
      "  -9.19238816e+01  4.05545199e+01 -6.34034659e+01 -7.33253558e-01]\n",
      " [ 2.21000000e+03 -2.32885280e+02  3.72403440e+01 -5.68682983e+00\n",
      "   6.08111832e+01  1.10812265e+02 -6.90011361e+01 -2.17906987e+00]\n",
      " [ 2.08200000e+03 -9.53785667e+01  2.37263728e+01 -1.07127510e+01\n",
      "  -8.06101731e+01  1.34626961e+00 -5.72805310e+01 -1.17623783e+01]]\n"
     ]
    }
   ],
   "source": [
    "from scipy.fftpack import dct\n",
    "\n",
    "forward_X = dct(X)\n",
    "print(forward_X)"
   ]
  },
  {
   "cell_type": "code",
   "execution_count": 35,
   "metadata": {},
   "outputs": [
    {
     "data": {
      "image/png": "[encoded data removed]",
      "text/plain": [
       "<Figure size 432x288 with 1 Axes>"
      ]
     },
     "metadata": {
      "needs_background": "light"
     },
     "output_type": "display_data"
    }
   ],
   "source": [
    "plt.imshow(forward_X, cmap=\"gray\")\n",
    "plt.show()"
   ]
  },
  {
   "cell_type": "markdown",
   "metadata": {},
   "source": [
    "### 1.2 Inverse discrete cosine transformation"
   ]
  },
  {
   "cell_type": "code",
   "execution_count": 36,
   "metadata": {},
   "outputs": [
    {
     "name": "stdout",
     "output_type": "stream",
     "text": [
      "[[2464. 1968. 1968. 1968. 1968. 1968. 1968. 2176.]\n",
      " [3072. 2880. 2176. 2464. 2464. 2464. 2176. 1760.]\n",
      " [4064. 3168. 2464. 2464. 2880. 2464. 1968. 1968.]\n",
      " [3824. 2880. 2176. 2880. 2880. 2656. 1968. 1968.]\n",
      " [2880. 2464. 2176. 2672. 2656. 2384. 2176. 2176.]\n",
      " [2048. 2176. 1968. 2176. 2464. 2880. 3168. 2464.]\n",
      " [1968. 1680. 1760. 2384. 2176. 2176. 2880. 2656.]\n",
      " [1760. 2176. 1968. 1968. 1968. 2176. 2464. 2176.]]\n"
     ]
    }
   ],
   "source": [
    "from scipy.fftpack import idct\n",
    "\n",
    "inv_X = idct(forward_X)\n",
    "print(inv_X)"
   ]
  },
  {
   "cell_type": "code",
   "execution_count": 37,
   "metadata": {},
   "outputs": [
    {
     "data": {
      "image/png": "[encoded data removed]",
      "text/plain": [
       "<Figure size 432x288 with 1 Axes>"
      ]
     },
     "metadata": {
      "needs_background": "light"
     },
     "output_type": "display_data"
    }
   ],
   "source": [
    "plt.imshow(inv_X, cmap=\"gray\")\n",
    "plt.show()"
   ]
  },
  {
   "cell_type": "code",
   "execution_count": null,
   "metadata": {},
   "outputs": [],
   "source": []
  }
 ],
 "metadata": {
  "kernelspec": {
   "display_name": "Python 3",
   "language": "python",
   "name": "python3"
  },
  "language_info": {
   "codemirror_mode": {
    "name": "ipython",
    "version": 3
   },
   "file_extension": ".py",
   "mimetype": "text/x-python",
   "name": "python",
   "nbconvert_exporter": "python",
   "pygments_lexer": "ipython3",
   "version": "3.7.5"
  }
 },
 "nbformat": 4,
 "nbformat_minor": 2
}
