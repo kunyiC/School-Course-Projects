{
 "cells": [
  {
   "cell_type": "markdown",
   "metadata": {
    "colab_type": "text",
    "id": "HyyTfTiRYBss"
   },
   "source": [
    "#從演算法到函數定義"
   ]
  },
  {
   "cell_type": "code",
   "execution_count": null,
   "metadata": {
    "colab": {},
    "colab_type": "code",
    "id": "bDoVz9JZBKgy"
   },
   "outputs": [],
   "source": [
    "a=240; b=96\n",
    "r=a%b\n",
    "while r!=0:\n",
    "  a=b;b=r\n",
    "  r=a%b\n",
    "print(\"gcd=\",b)"
   ]
  },
  {
   "cell_type": "code",
   "execution_count": null,
   "metadata": {
    "colab": {},
    "colab_type": "code",
    "id": "jncUJrDAYAvP"
   },
   "outputs": [],
   "source": [
    "def gcd(a, b):\n",
    "  r=a%b\n",
    "  while r!=0:\n",
    "    a=b;b=r\n",
    "    r=a%b\n",
    "  return b"
   ]
  },
  {
   "cell_type": "code",
   "execution_count": null,
   "metadata": {
    "colab": {},
    "colab_type": "code",
    "id": "newBvHbXYtib"
   },
   "outputs": [],
   "source": [
    "print(\"gcd(240, 96)=\", gcd(240, 96))"
   ]
  },
  {
   "cell_type": "code",
   "execution_count": null,
   "metadata": {
    "colab": {},
    "colab_type": "code",
    "id": "Hm3qN6aTggyX"
   },
   "outputs": [],
   "source": [
    "def greet(name=\"Sir\",msg=\"Good day\"):\n",
    "   print(\"Hello\",name + ', ' + msg)\n",
    "\n",
    "greet(\"John\",\"Good morning!\")\n",
    "greet(\"Mary\")\n",
    "greet()"
   ]
  },
  {
   "cell_type": "code",
   "execution_count": null,
   "metadata": {
    "colab": {},
    "colab_type": "code",
    "id": "FLII1qhnkmgs"
   },
   "outputs": [],
   "source": [
    "gcd2 = lambda a, b: (gcd(b, a % b) if a % b else b)\n",
    "print(\"gcd(240, 96)=\", gcd2(240, 96))"
   ]
  }
 ],
 "metadata": {
  "colab": {
   "name": "Demo4-1.ipynb",
   "provenance": [],
   "version": "0.3.2"
  },
  "kernelspec": {
   "display_name": "Python 3",
   "language": "python",
   "name": "python3"
  },
  "language_info": {
   "codemirror_mode": {
    "name": "ipython",
    "version": 3
   },
   "file_extension": ".py",
   "mimetype": "text/x-python",
   "name": "python",
   "nbconvert_exporter": "python",
   "pygments_lexer": "ipython3",
   "version": "3.7.1"
  }
 },
 "nbformat": 4,
 "nbformat_minor": 1
}
