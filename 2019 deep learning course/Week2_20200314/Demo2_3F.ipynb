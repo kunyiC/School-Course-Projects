{
  "nbformat": 4,
  "nbformat_minor": 0,
  "metadata": {
    "colab": {
      "name": "Demo2-3.ipynb",
      "version": "0.3.2",
      "provenance": []
    },
    "kernelspec": {
      "name": "python3",
      "display_name": "Python 3"
    }
  },
  "cells": [
    {
      "metadata": {
        "id": "HNPneqfFInh3",
        "colab_type": "text"
      },
      "cell_type": "markdown",
      "source": [
        "# Demo2-3 列印99乘法表\n"
      ]
    },
    {
      "metadata": {
        "id": "wR-EZxzFIkui",
        "colab_type": "code",
        "outputId": "5f25b935-2e4c-47f1-fb37-e87db8357e45",
        "colab": {
          "base_uri": "https://localhost:8080/",
          "height": 34
        }
      },
      "cell_type": "code",
      "source": [
        "#宣告序列變數，表示1-9的數字\n",
        "numbers = [1, 2, 3, 4, 5, 6, 7, 8, 9]\n",
        "print(numbers)\n"
      ],
      "execution_count": 2,
      "outputs": [
        {
          "output_type": "stream",
          "text": [
            "[1, 2, 3, 4, 5, 6, 7, 8, 9]\n"
          ],
          "name": "stdout"
        }
      ]
    },
    {
      "metadata": {
        "id": "TvoQhnA-Kde7",
        "colab_type": "code",
        "colab": {
          "base_uri": "https://localhost:8080/",
          "height": 34
        },
        "outputId": "1f60b407-98a0-473c-f1fb-36d9f5ed3302"
      },
      "cell_type": "code",
      "source": [
        "for n in numbers:\n",
        "  print(n, end=' ')"
      ],
      "execution_count": 4,
      "outputs": [
        {
          "output_type": "stream",
          "text": [
            "1 2 3 4 5 6 7 8 9 "
          ],
          "name": "stdout"
        }
      ]
    },
    {
      "metadata": {
        "id": "6Upg3pL0CW1v",
        "colab_type": "code",
        "colab": {
          "base_uri": "https://localhost:8080/",
          "height": 187
        },
        "outputId": "e800cccb-f810-4a47-b5c5-2cbeca65ddd1"
      },
      "cell_type": "code",
      "source": [
        "#第一個99乘法表\n",
        "#印行的標頭\n",
        "print(\"   \", end=' ')# 印空白的第一格\n",
        "for n in numbers:\n",
        "  print(n, end=' ')\n",
        "print() #換行\n",
        "for r in numbers:\n",
        "  print(r, end=' ')# 印列的標頭\n",
        "  for m in numbers:\n",
        "    print(r*m, end=' ')# 印列的標頭\n",
        "  print() #換行"
      ],
      "execution_count": 5,
      "outputs": [
        {
          "output_type": "stream",
          "text": [
            "    1 2 3 4 5 6 7 8 9 \n",
            "1 1 2 3 4 5 6 7 8 9 \n",
            "2 2 4 6 8 10 12 14 16 18 \n",
            "3 3 6 9 12 15 18 21 24 27 \n",
            "4 4 8 12 16 20 24 28 32 36 \n",
            "5 5 10 15 20 25 30 35 40 45 \n",
            "6 6 12 18 24 30 36 42 48 54 \n",
            "7 7 14 21 28 35 42 49 56 63 \n",
            "8 8 16 24 32 40 48 56 64 72 \n",
            "9 9 18 27 36 45 54 63 72 81 \n"
          ],
          "name": "stdout"
        }
      ]
    },
    {
      "metadata": {
        "id": "u2IxY4erEXH4",
        "colab_type": "code",
        "colab": {}
      },
      "cell_type": "code",
      "source": [
        "#第2個99乘法表\n",
        "#印行的標頭\n",
        "print(\"   \", end=' ')# 印空白的第一格\n",
        "for n in numbers:\n",
        "  print(n, end=' ')\n",
        "print() #換行\n",
        "for r in numbers:\n",
        "  print(r, end=' ')# 印列的標頭\n",
        "  for m in numbers:\n",
        "    print(r*m, end=' ')# 印列的標頭\n",
        "  print() #換行"
      ],
      "execution_count": 0,
      "outputs": []
    },
    {
      "metadata": {
        "id": "0tBxlpkoGNl0",
        "colab_type": "code",
        "colab": {
          "base_uri": "https://localhost:8080/",
          "height": 68
        },
        "outputId": "feb52829-a7bf-4dc8-94a4-08dfc36947f7"
      },
      "cell_type": "code",
      "source": [
        "r1=range(1,10)\n",
        "r2=range(10)\n",
        "r3=range(1,10, 3)\n",
        "print(list(r1))\n",
        "print(list(r2))\n",
        "print(list(r3))"
      ],
      "execution_count": 8,
      "outputs": [
        {
          "output_type": "stream",
          "text": [
            "[1, 2, 3, 4, 5, 6, 7, 8, 9]\n",
            "[0, 1, 2, 3, 4, 5, 6, 7, 8, 9]\n",
            "[1, 4, 7]\n"
          ],
          "name": "stdout"
        }
      ]
    },
    {
      "metadata": {
        "id": "9S_mn7YZHgsi",
        "colab_type": "code",
        "colab": {
          "base_uri": "https://localhost:8080/",
          "height": 340
        },
        "outputId": "e0d6b362-c2fd-4167-c660-142eb24593a6"
      },
      "cell_type": "code",
      "source": [
        "for r in range(1,10):\n",
        "  for m in range(2,6):\n",
        "    print(\"{0:1d}x{1:1d}={2:2d}\".format(m, r, m*r), end=\" \")\n",
        "  print()\n",
        "print()\n",
        "for r in range(1,10):\n",
        "  for m in range(6,10):\n",
        "    print(\"{0:1d}x{1:1d}={2:2d}\".format(m, r, m*r), end=\" \")\n",
        "  print()"
      ],
      "execution_count": 12,
      "outputs": [
        {
          "output_type": "stream",
          "text": [
            "2x1= 2 3x1= 3 4x1= 4 5x1= 5 \n",
            "2x2= 4 3x2= 6 4x2= 8 5x2=10 \n",
            "2x3= 6 3x3= 9 4x3=12 5x3=15 \n",
            "2x4= 8 3x4=12 4x4=16 5x4=20 \n",
            "2x5=10 3x5=15 4x5=20 5x5=25 \n",
            "2x6=12 3x6=18 4x6=24 5x6=30 \n",
            "2x7=14 3x7=21 4x7=28 5x7=35 \n",
            "2x8=16 3x8=24 4x8=32 5x8=40 \n",
            "2x9=18 3x9=27 4x9=36 5x9=45 \n",
            "\n",
            "6x1= 6 7x1= 7 8x1= 8 9x1= 9 \n",
            "6x2=12 7x2=14 8x2=16 9x2=18 \n",
            "6x3=18 7x3=21 8x3=24 9x3=27 \n",
            "6x4=24 7x4=28 8x4=32 9x4=36 \n",
            "6x5=30 7x5=35 8x5=40 9x5=45 \n",
            "6x6=36 7x6=42 8x6=48 9x6=54 \n",
            "6x7=42 7x7=49 8x7=56 9x7=63 \n",
            "6x8=48 7x8=56 8x8=64 9x8=72 \n",
            "6x9=54 7x9=63 8x9=72 9x9=81 \n"
          ],
          "name": "stdout"
        }
      ]
    }
  ]
}