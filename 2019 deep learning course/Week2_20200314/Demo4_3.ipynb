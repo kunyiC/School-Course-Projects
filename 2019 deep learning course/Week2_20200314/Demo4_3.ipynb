{
 "cells": [
  {
   "cell_type": "code",
   "execution_count": 0,
   "metadata": {
    "colab": {},
    "colab_type": "code",
    "id": "oy0G6a9R1CUX"
   },
   "outputs": [],
   "source": [
    "#收集學校新聞的大數據\n",
    "import re\n",
    "from urllib import request\n",
    "count = 0\n",
    "sss = [\"2008\", \"2009\",\"2010\", \"2011\", \"2012\",\"2013\",\"2014\",\"2015\",\"2016\",\"2017\",\"2018\"]\n",
    "titles=list()\n",
    "for i in range(len(sss)):\n",
    "    year = sss[i]\n",
    "    with request.urlopen('http://www.asia.edu.tw/news1.php?y='+year) as response:\n",
    "        html = response.read().decode('utf-8')\n",
    "        #print(html)\n",
    "        pattern = '<font color=\"#446666\" face=\"新細明體\" style=\"font-weight: 700;\" size=\"2\">'\n",
    "        for pos in re.finditer(pattern, html):\n",
    "            pos2 = html.find('</font>', pos.end())\n",
    "            sub = html[pos.end():pos2]\n",
    "            titles.append(sub)\n",
    "            count = count + 1\n",
    "print (count)"
   ]
  },
  {
   "cell_type": "code",
   "execution_count": 0,
   "metadata": {
    "colab": {},
    "colab_type": "code",
    "id": "YLk3FQkD3hB0"
   },
   "outputs": [],
   "source": [
    "!rm news.db"
   ]
  },
  {
   "cell_type": "code",
   "execution_count": 0,
   "metadata": {
    "colab": {},
    "colab_type": "code",
    "id": "u8pOx9nK1gz7"
   },
   "outputs": [],
   "source": [
    "#建立新聞標題的資料庫\n",
    "import sqlite3\n",
    "conn = sqlite3.connect('news.db')\n",
    "c = conn.cursor()\n",
    "\n",
    "# Create table\n",
    "c.execute(\"CREATE TABLE news (title text)\")\n",
    "\n",
    "# Insert a row of data\n",
    "for t in titles:\n",
    "  ss = \"INSERT INTO news VALUES ('{}')\".format(t)\n",
    "  c.execute(ss)\n",
    "\n",
    "# Save (commit) the changes\n",
    "conn.commit()\n",
    "conn.close()"
   ]
  },
  {
   "cell_type": "code",
   "execution_count": 0,
   "metadata": {
    "colab": {},
    "colab_type": "code",
    "id": "tyyzYF7H3mWv"
   },
   "outputs": [],
   "source": []
  },
  {
   "cell_type": "code",
   "execution_count": 0,
   "metadata": {
    "colab": {},
    "colab_type": "code",
    "id": "xG66c6-Q4DBO"
   },
   "outputs": [],
   "source": [
    "#查詢學校新聞標題有人工智慧\n",
    "conn = sqlite3.connect('news.db')\n",
    "c = conn.cursor()\n",
    "for row in c.execute('''SELECT * FROM news \n",
    "                        WHERE title LIKE '%人工智慧%' '''):\n",
    "    print(row)\n",
    "conn.close()"
   ]
  },
  {
   "cell_type": "code",
   "execution_count": 0,
   "metadata": {
    "colab": {},
    "colab_type": "code",
    "id": "eTwpxXFW5_tc"
   },
   "outputs": [],
   "source": [
    " "
   ]
  }
 ],
 "metadata": {
  "colab": {
   "name": "Demo4-3.ipynb",
   "provenance": [],
   "version": "0.3.2"
  },
  "kernelspec": {
   "display_name": "Python 3",
   "language": "python",
   "name": "python3"
  },
  "language_info": {
   "codemirror_mode": {
    "name": "ipython",
    "version": 3
   },
   "file_extension": ".py",
   "mimetype": "text/x-python",
   "name": "python",
   "nbconvert_exporter": "python",
   "pygments_lexer": "ipython3",
   "version": "3.7.1"
  }
 },
 "nbformat": 4,
 "nbformat_minor": 1
}
