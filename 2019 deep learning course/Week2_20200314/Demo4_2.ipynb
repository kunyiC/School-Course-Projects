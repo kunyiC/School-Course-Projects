{
  "nbformat": 4,
  "nbformat_minor": 0,
  "metadata": {
    "colab": {
      "name": "Demo4-2.ipynb",
      "version": "0.3.2",
      "provenance": [],
      "toc_visible": true
    },
    "kernelspec": {
      "name": "python3",
      "display_name": "Python 3"
    }
  },
  "cells": [
    {
      "metadata": {
        "id": "zZlPZWyHiiz5",
        "colab_type": "text"
      },
      "cell_type": "markdown",
      "source": [
        "#Demo4-2 Python標準函數庫"
      ]
    },
    {
      "metadata": {
        "id": "fHrief7hig6O",
        "colab_type": "code",
        "colab": {}
      },
      "cell_type": "code",
      "source": [
        "#re — Regular expression operations\n",
        "import re\n",
        "m = re.search('(?<=abc)def', 'abcdef')\n",
        "m.group(0)"
      ],
      "execution_count": 0,
      "outputs": []
    },
    {
      "metadata": {
        "id": "0Ttud6A1jqXq",
        "colab_type": "code",
        "colab": {}
      },
      "cell_type": "code",
      "source": [
        "m = re.search(r'(?<=-)\\w+', 'spam-egg')\n",
        "m.group(0)"
      ],
      "execution_count": 0,
      "outputs": []
    },
    {
      "metadata": {
        "id": "VIGO4y7XtItY",
        "colab_type": "code",
        "colab": {}
      },
      "cell_type": "code",
      "source": [
        "#random --- 生成亂數\n",
        "import random as rd \n",
        "a=rd.random()                             # Random float:  0.0 <= x < 1.0\n",
        "b=rd.uniform(2.5, 10.0)                   # Random float:  2.5 <= x < 10.0\n",
        "c=rd.randrange(10)                        # Integer from 0 to 9 inclusive\n",
        "d=rd.choice(['win', 'lose', 'draw'])      # Single random element from a sequence\n",
        "print(a,b,c,d)"
      ],
      "execution_count": 0,
      "outputs": []
    },
    {
      "metadata": {
        "id": "JdTYlocBwy30",
        "colab_type": "code",
        "colab": {}
      },
      "cell_type": "code",
      "source": [
        "#sqlite3\n",
        "import sqlite3\n",
        "conn = sqlite3.connect('example.db')\n",
        "c = conn.cursor()\n",
        "\n",
        "# Create table\n",
        "c.execute('''CREATE TABLE stocks\n",
        "             (date text, trans text, symbol text, qty real, price real)''')\n",
        "\n",
        "# Insert a row of data\n",
        "c.execute(\"INSERT INTO stocks VALUES ('2006-01-05','BUY','RHAT',100,35.14)\")\n",
        "c.execute(\"INSERT INTO stocks VALUES ('2006-04-05','BUY','MSFT',1000, 72.00)\")\n",
        "\n",
        "# Save (commit) the changes\n",
        "conn.commit()\n",
        "\n",
        "# We can also close the connection if we are done with it.\n",
        "# Just be sure any changes have been committed or they will be lost.\n",
        "conn.close()"
      ],
      "execution_count": 0,
      "outputs": []
    },
    {
      "metadata": {
        "id": "m3ksjs07xLzK",
        "colab_type": "code",
        "colab": {}
      },
      "cell_type": "code",
      "source": [
        "conn = sqlite3.connect('example.db')\n",
        "c = conn.cursor()\n",
        "for row in c.execute('SELECT * FROM stocks ORDER BY price'):\n",
        "    print(row)\n",
        "conn.close()"
      ],
      "execution_count": 0,
      "outputs": []
    },
    {
      "metadata": {
        "id": "Av2XCm2gz8Ds",
        "colab_type": "code",
        "colab": {}
      },
      "cell_type": "code",
      "source": [
        "from urllib import request\n",
        "with request.urlopen('http://www.asia.edu.tw/news1.php') as response:\n",
        "    html = response.read().decode('utf-8')\n",
        "    print(html)"
      ],
      "execution_count": 0,
      "outputs": []
    }
  ]
}