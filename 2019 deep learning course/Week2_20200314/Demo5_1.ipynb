{
  "nbformat": 4,
  "nbformat_minor": 0,
  "metadata": {
    "colab": {
      "name": "Demo5-1.ipynb",
      "version": "0.3.2",
      "provenance": []
    },
    "kernelspec": {
      "name": "python3",
      "display_name": "Python 3"
    }
  },
  "cells": [
    {
      "metadata": {
        "id": "N6CC0F9T4qAe",
        "colab_type": "code",
        "colab": {
          "base_uri": "https://localhost:8080/",
          "height": 255
        },
        "outputId": "0d3b5f7a-f777-4f5f-e773-bf727b9b20c3"
      },
      "cell_type": "code",
      "source": [
        "#計算1000-900之間的質數\n",
        "for n in range(900, 1000):\n",
        "  for x in range(2, int(n/2)):\n",
        "     if n % x == 0:\n",
        "        break\n",
        "  else:\n",
        "     print(n, 'is a prime number')"
      ],
      "execution_count": 2,
      "outputs": [
        {
          "output_type": "stream",
          "text": [
            "907 is a prime number\n",
            "911 is a prime number\n",
            "919 is a prime number\n",
            "929 is a prime number\n",
            "937 is a prime number\n",
            "941 is a prime number\n",
            "947 is a prime number\n",
            "953 is a prime number\n",
            "967 is a prime number\n",
            "971 is a prime number\n",
            "977 is a prime number\n",
            "983 is a prime number\n",
            "991 is a prime number\n",
            "997 is a prime number\n"
          ],
          "name": "stdout"
        }
      ]
    },
    {
      "metadata": {
        "id": "_o4uCJ1f79R2",
        "colab_type": "code",
        "colab": {}
      },
      "cell_type": "code",
      "source": [
        "#將score.txt檔案中及格的成績存成score2.txt\n",
        "fin=open('score.txt')\n",
        "fout=open('score2.txt','w')\n",
        "for line in fin:\n",
        "  score = int(line)\n",
        "  if score < 60:\n",
        "    continue\n",
        "  fout.write(line)\n",
        "fin.close()\n",
        "fout.close()"
      ],
      "execution_count": 0,
      "outputs": []
    },
    {
      "metadata": {
        "id": "9ciqS9B_8x9z",
        "colab_type": "code",
        "colab": {
          "base_uri": "https://localhost:8080/",
          "height": 54
        },
        "outputId": "45b67e69-c19f-4d18-880a-b4daee4822ee"
      },
      "cell_type": "code",
      "source": [
        "#把score2.txt印出來\n",
        "fin=open('score2.txt')\n",
        "for line in fin:\n",
        "  print(line.strip(), end=\",\")\n",
        "fin.close()"
      ],
      "execution_count": 4,
      "outputs": [
        {
          "output_type": "stream",
          "text": [
            "85,80,80,77,76,88,90,75,67,79,76,92,90,90,95,95,85,90,88,86,87,91,82,82,86,89,88,77,69,83,85,82,81,94,72,83,75,87,79,85,84,82,87,86,86,88,83,85,87,84,87,90,80,82,83,87,80,68,81,91,84,82,87,"
          ],
          "name": "stdout"
        }
      ]
    },
    {
      "metadata": {
        "id": "NysE9wM9-UN-",
        "colab_type": "code",
        "colab": {
          "base_uri": "https://localhost:8080/",
          "height": 34
        },
        "outputId": "3004ba79-f69e-4f77-a9bc-9d826d2e155d"
      },
      "cell_type": "code",
      "source": [
        "#算出101到199的奇數和 \n",
        "i=101\n",
        "sum=0\n",
        "while i<=199:\n",
        "\tsum+=i\n",
        "\ti+=2\n",
        "print('Sum of odds=',sum)"
      ],
      "execution_count": 5,
      "outputs": [
        {
          "output_type": "stream",
          "text": [
            "Sum of odds= 7500\n"
          ],
          "name": "stdout"
        }
      ]
    }
  ]
}