{
 "cells": [
  {
   "cell_type": "markdown",
   "metadata": {
    "colab_type": "text",
    "id": "HNPneqfFInh3"
   },
   "source": [
    "# Demo2-3 列印99乘法表\n"
   ]
  },
  {
   "cell_type": "code",
   "execution_count": 0,
   "metadata": {
    "colab": {},
    "colab_type": "code",
    "id": "wR-EZxzFIkui"
   },
   "outputs": [],
   "source": [
    "#宣告序列變數，表示1-9的數字\n",
    "numbers = [1, 2, 3, 4, 5, 6, 7, 8, 9]\n",
    "print(numbers)\n"
   ]
  },
  {
   "cell_type": "code",
   "execution_count": 0,
   "metadata": {
    "colab": {},
    "colab_type": "code",
    "id": "TvoQhnA-Kde7"
   },
   "outputs": [],
   "source": [
    "for n in numbers:\n",
    "  print(n, end=' ')"
   ]
  },
  {
   "cell_type": "code",
   "execution_count": 0,
   "metadata": {
    "colab": {},
    "colab_type": "code",
    "id": "6Upg3pL0CW1v"
   },
   "outputs": [],
   "source": [
    "#第一個99乘法表\n",
    "#印行的標頭\n",
    "print(\"   \", end=' ')# 印空白的第一格\n",
    "for n in numbers:\n",
    "  print(n, end=' ')\n",
    "print() #換行\n",
    "for r in numbers:\n",
    "  print(r, end=' ')# 印列的標頭\n",
    "  for m in numbers:\n",
    "    print(r*m, end=' ')# 印列的標頭\n",
    "  print() #換行"
   ]
  },
  {
   "cell_type": "code",
   "execution_count": 0,
   "metadata": {
    "colab": {},
    "colab_type": "code",
    "id": "u2IxY4erEXH4"
   },
   "outputs": [],
   "source": [
    "#第2個99乘法表\n",
    "#印行的標頭\n",
    "print(\"   \", end=' ')# 印空白的第一格\n",
    "for n in numbers:\n",
    "  print(n, end=' ')\n",
    "print() #換行\n",
    "for r in numbers:\n",
    "  print(r, end=' ')# 印列的標頭\n",
    "  for m in numbers:\n",
    "    print(r*m, end=' ')# 印列的標頭\n",
    "  print() #換行"
   ]
  }
 ],
 "metadata": {
  "colab": {
   "name": "Demo2-3.ipynb",
   "provenance": [],
   "version": "0.3.2"
  },
  "kernelspec": {
   "display_name": "Python 3",
   "language": "python",
   "name": "python3"
  },
  "language_info": {
   "codemirror_mode": {
    "name": "ipython",
    "version": 3
   },
   "file_extension": ".py",
   "mimetype": "text/x-python",
   "name": "python",
   "nbconvert_exporter": "python",
   "pygments_lexer": "ipython3",
   "version": "3.7.1"
  }
 },
 "nbformat": 4,
 "nbformat_minor": 1
}
