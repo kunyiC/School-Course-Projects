{
  "nbformat": 4,
  "nbformat_minor": 0,
  "metadata": {
    "colab": {
      "name": "Demo5-2.ipynb",
      "version": "0.3.2",
      "provenance": []
    },
    "kernelspec": {
      "name": "python3",
      "display_name": "Python 3"
    }
  },
  "cells": [
    {
      "metadata": {
        "id": "Rl8ycZ3SEV2k",
        "colab_type": "text"
      },
      "cell_type": "markdown",
      "source": [
        "#Demo5-2 字串處理"
      ]
    },
    {
      "metadata": {
        "id": "31IG7LyAEVQ3",
        "colab_type": "code",
        "colab": {
          "base_uri": "https://localhost:8080/",
          "height": 34
        },
        "outputId": "a09d3a32-f1c9-4c30-955f-714146444150"
      },
      "cell_type": "code",
      "source": [
        "#從文章中找出AU字串的次數\n",
        "about='''The THE ranking of world universities of each specialized subject is expanded this year to include the top 500 ones. \n",
        "AU is ranked to be in the top 401-500 list of the subject of “life sciences,” and is the No.3 private university in Taiwan in this specialized area. \n",
        "In addition, AU is ranked similarly in the subject of “clinical, pre-clinical & health,” and is the No.4 private university in Taiwan in this area.'''\n",
        "count=0\n",
        "pos=about.find('AU')\n",
        "while pos >=0:\n",
        "  count +=1\n",
        "  pos=about.find('AU', pos+1)\n",
        "print(\"The occurrences of AU are\", count)"
      ],
      "execution_count": 1,
      "outputs": [
        {
          "output_type": "stream",
          "text": [
            "The occurrences of AU are 2\n"
          ],
          "name": "stdout"
        }
      ]
    },
    {
      "metadata": {
        "id": "CqAJHwSfOWKi",
        "colab_type": "code",
        "colab": {
          "base_uri": "https://localhost:8080/",
          "height": 34
        },
        "outputId": "2cce5b2a-ad17-45fd-d665-435dbe3a6972"
      },
      "cell_type": "code",
      "source": [
        "count = 0\n",
        "words = about.split()\n",
        "for word in words:\n",
        "   #print(word)\n",
        "   count += 1\n",
        "print('The number of words is ', count)"
      ],
      "execution_count": 3,
      "outputs": [
        {
          "output_type": "stream",
          "text": [
            "The number of words is  73\n"
          ],
          "name": "stdout"
        }
      ]
    },
    {
      "metadata": {
        "id": "mdrsJIrhPW21",
        "colab_type": "code",
        "colab": {
          "base_uri": "https://localhost:8080/",
          "height": 51
        },
        "outputId": "3a5c5fa5-36bb-48a2-d667-2f9dee93cc54"
      },
      "cell_type": "code",
      "source": [
        "posL=about.find('\\u201C')#\\u201C=“\n",
        "while posL >=0:\n",
        "  posR=about.find('\\u201D',posL+1) #\\u201D=”\n",
        "  if posR > posL:\n",
        "    subStr = about[posL+1:posR]\n",
        "    print(subStr)\n",
        "  posL=about.find('\\u201C', posR + 1)"
      ],
      "execution_count": 8,
      "outputs": [
        {
          "output_type": "stream",
          "text": [
            "life sciences,\n",
            "clinical, pre-clinical & health,\n"
          ],
          "name": "stdout"
        }
      ]
    }
  ]
}