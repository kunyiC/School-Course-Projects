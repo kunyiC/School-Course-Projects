{
 "cells": [
  {
   "cell_type": "markdown",
   "metadata": {
    "colab_type": "text",
    "id": "lBKLB_tYAo1i"
   },
   "source": [
    "# Demo2-2 Python 變數宣告\n"
   ]
  },
  {
   "cell_type": "code",
   "execution_count": null,
   "metadata": {
    "colab": {},
    "colab_type": "code",
    "id": "eZmOooSRAn9S"
   },
   "outputs": [],
   "source": [
    "#變數宣告\n",
    "varA = 66 #宣告一個整數變數\n",
    "varB = 1.68 #宣告一個有小數的變數(電腦叫浮點數)\n",
    "varC = 'GoPython' #宣告一個字串變數"
   ]
  },
  {
   "cell_type": "code",
   "execution_count": null,
   "metadata": {
    "colab": {},
    "colab_type": "code",
    "id": "f72952AOBHs6"
   },
   "outputs": [],
   "source": [
    "print(type(varA), type(varB), type(varC), sep='...')"
   ]
  },
  {
   "cell_type": "code",
   "execution_count": null,
   "metadata": {
    "colab": {},
    "colab_type": "code",
    "id": "puqTPzu8Cxez"
   },
   "outputs": [],
   "source": [
    "varD = str(varA) #將整數88轉成字串的88\n",
    "varE = str(varB) #將浮點數1.68轉成字串的1.68\n",
    "varF = int('2019') #將字串2019轉作整數數值的2019\n",
    "varG = float('3.14') #將字串3.14轉作浮點數數值的3.14\n"
   ]
  },
  {
   "cell_type": "code",
   "execution_count": null,
   "metadata": {
    "colab": {},
    "colab_type": "code",
    "id": "rvjjSAJODg7v"
   },
   "outputs": [],
   "source": [
    "print(varD, varE, varF,varG, sep=',')"
   ]
  },
  {
   "cell_type": "code",
   "execution_count": null,
   "metadata": {
    "colab": {},
    "colab_type": "code",
    "id": "NBun7O-iF33G"
   },
   "outputs": [],
   "source": [
    "print(\"Art: {0:5d}, Price per Unit: {1:8.2f}\".format(435, 59.058))"
   ]
  },
  {
   "cell_type": "code",
   "execution_count": null,
   "metadata": {
    "colab": {},
    "colab_type": "code",
    "id": "ypWXgi8EGmC1"
   },
   "outputs": [],
   "source": [
    "print('Art: %5d, Price per Unit: %8.2f' % (435, 59.058))"
   ]
  }
 ],
 "metadata": {
  "colab": {
   "name": "Demo2-2.ipynb",
   "provenance": [],
   "version": "0.3.2"
  },
  "kernelspec": {
   "display_name": "Python 3",
   "language": "python",
   "name": "python3"
  },
  "language_info": {
   "codemirror_mode": {
    "name": "ipython",
    "version": 3
   },
   "file_extension": ".py",
   "mimetype": "text/x-python",
   "name": "python",
   "nbconvert_exporter": "python",
   "pygments_lexer": "ipython3",
   "version": "3.7.1"
  }
 },
 "nbformat": 4,
 "nbformat_minor": 1
}
