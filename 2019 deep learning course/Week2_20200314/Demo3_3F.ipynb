{
  "nbformat": 4,
  "nbformat_minor": 0,
  "metadata": {
    "colab": {
      "name": "Demo3-3.ipynb",
      "version": "0.3.2",
      "provenance": [],
      "toc_visible": true
    },
    "kernelspec": {
      "name": "python3",
      "display_name": "Python 3"
    }
  },
  "cells": [
    {
      "metadata": {
        "id": "MJ_lq2GFeCTl",
        "colab_type": "code",
        "colab": {}
      },
      "cell_type": "code",
      "source": [
        "#改用with來讀檔案\n",
        "count = 0\n",
        "total = 0\n",
        "with open('score.txt') as fin:\n",
        "    for line in fin:\n",
        "        count += 1\n",
        "        total += int(line)\n",
        "print(\"Average score=\", total/count)"
      ],
      "execution_count": 0,
      "outputs": []
    },
    {
      "metadata": {
        "id": "aBqzfXAMjjoH",
        "colab_type": "text"
      },
      "cell_type": "markdown",
      "source": [
        "## 分數在0-40, 41-59, 60-80, 80-100的人數"
      ]
    },
    {
      "metadata": {
        "id": "wrLB-UccjclN",
        "colab_type": "code",
        "colab": {}
      },
      "cell_type": "code",
      "source": [
        "stats = [0, 0 ,0 , 0]\n",
        "with open('score.txt') as fin:\n",
        "    for line in fin:\n",
        "        score = int(line)\n",
        "        if(score >= 0 and score <= 40):\n",
        "          stats[0]+=1\n",
        "        elif(score>=41 and score<=59):\n",
        "          stats[1]+=1\n",
        "        elif(score>=60 and score<=80):\n",
        "          stats[2]+=1\n",
        "        elif(score>=80 and score<=100):\n",
        "          stats[3]+=1\n",
        "print(\"0-40={}, 41-59={}, 60-80={}, 80-100={}\".format(stats[0],stats[1],stats[2],stats[3] ))        \n",
        "          "
      ],
      "execution_count": 0,
      "outputs": []
    },
    {
      "metadata": {
        "id": "BWE0FTPJqvfq",
        "colab_type": "code",
        "colab": {}
      },
      "cell_type": "code",
      "source": [
        "#畫出人數分佈的長條圖\n",
        "import matplotlib.pyplot as plt\n",
        "import numpy as np\n",
        "stats = [4, 5 ,16 , 47]\n",
        "slots = ('0-40', '41-59', '60-80', '80-100')\n",
        "y_pos = np.arange(len(slots))\n",
        "plt.bar(y_pos, stats, align='center', alpha=0.5)\n",
        "plt.xticks(y_pos, slots)\n",
        "plt.ylabel('Count')\n",
        "plt.title('Result of Quiz ')\n",
        "plt.show()"
      ],
      "execution_count": 0,
      "outputs": []
    },
    {
      "metadata": {
        "id": "vYCizTyfscZC",
        "colab_type": "code",
        "colab": {}
      },
      "cell_type": "code",
      "source": [
        "scores=list()\n",
        "with open('score.txt') as fin:\n",
        "    for line in fin:\n",
        "        score = int(line)\n",
        "        scores.append(score)    \n",
        "print(\"Before sorting\", scores)\n",
        "scores.sort(reverse = True)\n",
        "print(\"After  sorting\", scores)\n"
      ],
      "execution_count": 0,
      "outputs": []
    },
    {
      "metadata": {
        "id": "ktfLS3-Bug1I",
        "colab_type": "code",
        "colab": {}
      },
      "cell_type": "code",
      "source": [
        "with open('sorted.txt','w') as fout:\n",
        "    for s in scores:\n",
        "       fout.write(str(s))"
      ],
      "execution_count": 0,
      "outputs": []
    },
    {
      "metadata": {
        "id": "BXoWDauOxyEQ",
        "colab_type": "code",
        "colab": {}
      },
      "cell_type": "code",
      "source": [
        "!ls"
      ],
      "execution_count": 0,
      "outputs": []
    }
  ]
}