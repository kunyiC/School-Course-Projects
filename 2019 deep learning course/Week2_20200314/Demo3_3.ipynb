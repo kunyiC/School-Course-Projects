{
 "cells": [
  {
   "cell_type": "code",
   "execution_count": 0,
   "metadata": {
    "colab": {},
    "colab_type": "code",
    "id": "MJ_lq2GFeCTl"
   },
   "outputs": [],
   "source": [
    "#改用with來讀檔案\n",
    "count = 0\n",
    "total = 0\n",
    "with open('score.txt') as fin:\n",
    "    for line in fin:\n",
    "        count += 1\n",
    "        total += int(line)\n",
    "print(\"Average score=\", total/count)"
   ]
  },
  {
   "cell_type": "markdown",
   "metadata": {
    "colab_type": "text",
    "id": "aBqzfXAMjjoH"
   },
   "source": [
    "## 分數在0-40, 41-59, 60-80, 80-100的人數"
   ]
  },
  {
   "cell_type": "code",
   "execution_count": 0,
   "metadata": {
    "colab": {},
    "colab_type": "code",
    "id": "wrLB-UccjclN"
   },
   "outputs": [],
   "source": [
    "stats = [0, 0 ,0 , 0]\n",
    "with open('score.txt') as fin:\n",
    "    for line in fin:\n",
    "        score = int(line)\n",
    "        #from\n",
    "\n",
    "        \n",
    "        \n",
    "        \n",
    "        #to\n",
    "print(\"0-40={}, 41-59={}, 60-80={}, 80-100={}\".format(stats[0],stats[1],stats[2],stats[3] ))        \n",
    "          "
   ]
  },
  {
   "cell_type": "code",
   "execution_count": 0,
   "metadata": {
    "colab": {},
    "colab_type": "code",
    "id": "BWE0FTPJqvfq"
   },
   "outputs": [],
   "source": [
    "#畫出人數分佈的長條圖\n",
    "import matplotlib.pyplot as plt\n",
    "import numpy as np\n",
    "stats = [4, 5 ,16 , 47]\n",
    "slots = ('0-40', '41-59', '60-80', '80-100')\n",
    "y_pos = np.arange(len(slots))\n",
    "plt.bar(y_pos, stats, align='center', alpha=0.5)\n",
    "plt.xticks(y_pos, slots)\n",
    "plt.ylabel('Count')\n",
    "plt.title('Result of Quiz ')\n",
    "plt.show()"
   ]
  },
  {
   "cell_type": "code",
   "execution_count": 0,
   "metadata": {
    "colab": {},
    "colab_type": "code",
    "id": "vYCizTyfscZC"
   },
   "outputs": [],
   "source": [
    "scores=list()\n",
    "with open('score.txt') as fin:\n",
    "    for line in fin:\n",
    "        score = int(line)\n",
    "        scores.append(score)    \n",
    "print(\"Before sorting\", scores)\n",
    "scores.sort(reverse = True)\n",
    "print(\"After  sorting\", scores)\n"
   ]
  },
  {
   "cell_type": "code",
   "execution_count": 0,
   "metadata": {
    "colab": {},
    "colab_type": "code",
    "id": "ktfLS3-Bug1I"
   },
   "outputs": [],
   "source": [
    "with open('sorted.txt','w') as fout:\n",
    "    for s in scores:\n",
    "       fout.write(str(s))"
   ]
  },
  {
   "cell_type": "code",
   "execution_count": 0,
   "metadata": {
    "colab": {},
    "colab_type": "code",
    "id": "BXoWDauOxyEQ"
   },
   "outputs": [],
   "source": [
    "!ls"
   ]
  }
 ],
 "metadata": {
  "colab": {
   "name": "Demo3-3.ipynb",
   "provenance": [],
   "toc_visible": true,
   "version": "0.3.2"
  },
  "kernelspec": {
   "display_name": "Python 3",
   "language": "python",
   "name": "python3"
  },
  "language_info": {
   "codemirror_mode": {
    "name": "ipython",
    "version": 3
   },
   "file_extension": ".py",
   "mimetype": "text/x-python",
   "name": "python",
   "nbconvert_exporter": "python",
   "pygments_lexer": "ipython3",
   "version": "3.7.1"
  }
 },
 "nbformat": 4,
 "nbformat_minor": 1
}
