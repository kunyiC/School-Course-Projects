{
  "nbformat": 4,
  "nbformat_minor": 0,
  "metadata": {
    "colab": {
      "name": "Demo5-3.ipynb",
      "version": "0.3.2",
      "provenance": []
    },
    "kernelspec": {
      "name": "python3",
      "display_name": "Python 3"
    }
  },
  "cells": [
    {
      "metadata": {
        "id": "WF1aIkQGUa2O",
        "colab_type": "text"
      },
      "cell_type": "markdown",
      "source": [
        "# Demo5-3 時間處理"
      ]
    },
    {
      "metadata": {
        "id": "d8gJWWHkUVP1",
        "colab_type": "code",
        "colab": {
          "base_uri": "https://localhost:8080/",
          "height": 34
        },
        "outputId": "8dbac216-c848-48d3-bb88-b7eb2d069682"
      },
      "cell_type": "code",
      "source": [
        "ws=[\"星期一\",\"星期二\", \"星期三\",\"星期四\", \"星期五\", \"星期六\", \"星期日\"]\n",
        "\n",
        "#後天星期幾?\n",
        "import datetime\n",
        "#後天\n",
        "dt=datetime.datetime.now() + datetime.timedelta(days=2)\n",
        "print(ws[dt.weekday()])#Monday is 0 and Sunday is 6"
      ],
      "execution_count": 7,
      "outputs": [
        {
          "output_type": "stream",
          "text": [
            "星期二\n"
          ],
          "name": "stdout"
        }
      ]
    },
    {
      "metadata": {
        "id": "HyhF2t2MXxER",
        "colab_type": "code",
        "colab": {
          "base_uri": "https://localhost:8080/",
          "height": 34
        },
        "outputId": "c745fb40-eb51-4fb5-a7d3-fdae5ad422d5"
      },
      "cell_type": "code",
      "source": [
        "import time\n",
        "t1=time.time()\n",
        "count=0\n",
        "#計算2-1000之間的質數數\n",
        "for n in range(2, 1000):\n",
        "  for x in range(2, int(n/2)):\n",
        "     if n % x == 0:\n",
        "        break\n",
        "  else:\n",
        "     count+=1\n",
        "t2=time.time()\n",
        "seconds = t2-t1\n",
        "print(\"The number of primes is {} in {} seconds\".format(count, seconds))"
      ],
      "execution_count": 9,
      "outputs": [
        {
          "output_type": "stream",
          "text": [
            "The number of primes is 169 in 0.0058209896087646484 seconds\n"
          ],
          "name": "stdout"
        }
      ]
    }
  ]
}