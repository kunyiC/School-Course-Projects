{
 "cells": [
  {
   "cell_type": "markdown",
   "metadata": {
    "colab_type": "text",
    "id": "lGr-I3gy0eIj"
   },
   "source": [
    "#(3)-基本程式模型Input\n"
   ]
  },
  {
   "cell_type": "code",
   "execution_count": null,
   "metadata": {
    "colab": {},
    "colab_type": "code",
    "id": "18DYGHG70bxd"
   },
   "outputs": [],
   "source": [
    "#從score.txt輸入資料，印出來\n",
    "fin=open('score.txt')\n",
    "for line in fin:\n",
    "  print(line.strip(), end=\",\")\n",
    "fin.close()"
   ]
  },
  {
   "cell_type": "code",
   "execution_count": null,
   "metadata": {
    "colab": {},
    "colab_type": "code",
    "id": "lZ8GO3FK01kw"
   },
   "outputs": [],
   "source": [
    "#從score.txt輸入資料，算人數\n",
    "count=0\n",
    "fin=open('score.txt')\n",
    "for line in fin:\n",
    "  count +=1\n",
    "fin.close()\n",
    "print(\"The number is\",count)"
   ]
  },
  {
   "cell_type": "code",
   "execution_count": null,
   "metadata": {
    "colab": {},
    "colab_type": "code",
    "id": "C_0OInXq031l"
   },
   "outputs": [],
   "source": [
    "#計算score.txt檔案中及格人數\n",
    "count=0\n",
    "passed = 0\n",
    "fin=open('score.txt')\n",
    "for line in fin:\n",
    "  count +=1\n",
    "  score = int(line)\n",
    "  if score >= 60:\n",
    "    passed +=1\n",
    "fin.close()\n",
    "print(\"The number of the passed is\",passed, \"in\", count, \"students\")"
   ]
  }
 ],
 "metadata": {
  "colab": {
   "name": "Demo3-2.ipynb",
   "provenance": [],
   "version": "0.3.2"
  },
  "kernelspec": {
   "display_name": "Python 3",
   "language": "python",
   "name": "python3"
  },
  "language_info": {
   "codemirror_mode": {
    "name": "ipython",
    "version": 3
   },
   "file_extension": ".py",
   "mimetype": "text/x-python",
   "name": "python",
   "nbconvert_exporter": "python",
   "pygments_lexer": "ipython3",
   "version": "3.7.1"
  }
 },
 "nbformat": 4,
 "nbformat_minor": 1
}
