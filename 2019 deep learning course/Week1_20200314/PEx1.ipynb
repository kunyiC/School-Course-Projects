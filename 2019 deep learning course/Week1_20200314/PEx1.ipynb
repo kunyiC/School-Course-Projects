{
  "nbformat": 4,
  "nbformat_minor": 0,
  "metadata": {
    "colab": {
      "name": "PEx1.ipynb",
      "provenance": [],
      "toc_visible": true
    },
    "kernelspec": {
      "name": "python3",
      "display_name": "Python 3"
    }
  },
  "cells": [
    {
      "cell_type": "code",
      "metadata": {
        "id": "Ri-kFq3b3vMB",
        "colab_type": "code",
        "colab": {
          "base_uri": "https://localhost:8080/",
          "height": 34
        },
        "outputId": "a7f70a35-b058-4bc0-85d8-83f8b3755066"
      },
      "source": [
        "print('Hello world')"
      ],
      "execution_count": 1,
      "outputs": [
        {
          "output_type": "stream",
          "text": [
            "Hello world\n"
          ],
          "name": "stdout"
        }
      ]
    },
    {
      "cell_type": "code",
      "metadata": {
        "id": "JmFgyLbK4M5q",
        "colab_type": "code",
        "colab": {
          "base_uri": "https://localhost:8080/",
          "height": 34
        },
        "outputId": "d2605fb0-d548-46e4-85b9-c245b6e8d430"
      },
      "source": [
        "print(\"Hello\", \"World\")"
      ],
      "execution_count": 2,
      "outputs": [
        {
          "output_type": "stream",
          "text": [
            "Hello World\n"
          ],
          "name": "stdout"
        }
      ]
    },
    {
      "cell_type": "code",
      "metadata": {
        "id": "COXJHEHT4V5p",
        "colab_type": "code",
        "colab": {
          "base_uri": "https://localhost:8080/",
          "height": 34
        },
        "outputId": "51fb3678-45f3-4f17-9f78-b1fb8e5c0d7b"
      },
      "source": [
        "print(\"Hello\",\"World\", sep=\"+\")"
      ],
      "execution_count": 3,
      "outputs": [
        {
          "output_type": "stream",
          "text": [
            "Hello+World\n"
          ],
          "name": "stdout"
        }
      ]
    },
    {
      "cell_type": "code",
      "metadata": {
        "id": "TXJs4FUv4cCj",
        "colab_type": "code",
        "colab": {
          "base_uri": "https://localhost:8080/",
          "height": 51
        },
        "outputId": "25270808-7bdf-4a8e-958f-8ec323b9f8d0"
      },
      "source": [
        "print(\"Hello\");print(\"World\")"
      ],
      "execution_count": 4,
      "outputs": [
        {
          "output_type": "stream",
          "text": [
            "Hello\n",
            "World\n"
          ],
          "name": "stdout"
        }
      ]
    },
    {
      "cell_type": "code",
      "metadata": {
        "id": "n-G6ZmUR4gEZ",
        "colab_type": "code",
        "colab": {
          "base_uri": "https://localhost:8080/",
          "height": 34
        },
        "outputId": "d95923c0-b6d9-4d31-c976-dcad88e21883"
      },
      "source": [
        "print(\"Hello\", end='->');print(\"World\")"
      ],
      "execution_count": 5,
      "outputs": [
        {
          "output_type": "stream",
          "text": [
            "Hello->World\n"
          ],
          "name": "stdout"
        }
      ]
    },
    {
      "cell_type": "markdown",
      "metadata": {
        "id": "cBp0Dpr2_OM_",
        "colab_type": "text"
      },
      "source": [
        "# Ex1 Print"
      ]
    },
    {
      "cell_type": "code",
      "metadata": {
        "id": "tbV0aGsD_Fzr",
        "colab_type": "code",
        "colab": {
          "base_uri": "https://localhost:8080/",
          "height": 34
        },
        "outputId": "88b49f8b-717f-44ec-c0f7-2be7ba4f9e34"
      },
      "source": [
        "varA = 66 #宣告一個整數變數\n",
        "varB = 1.68 #宣告一個有小數的變數(電腦叫浮點數)\n",
        "varC = 'GoPython' #宣告一個字串變數\n",
        "print(type(varA), type(varB), type(varC), sep='...')"
      ],
      "execution_count": 6,
      "outputs": [
        {
          "output_type": "stream",
          "text": [
            "<class 'int'>...<class 'float'>...<class 'str'>\n"
          ],
          "name": "stdout"
        }
      ]
    },
    {
      "cell_type": "code",
      "metadata": {
        "id": "HUjqGQYo_55u",
        "colab_type": "code",
        "colab": {}
      },
      "source": [
        "varD = str(varA) #將整數88轉成字串的88\n",
        "varE = str(varB) #將浮點數1.68轉成字串的1.68\n",
        "varF = int('2019') #將字串2019轉作整數數值的2019\n",
        "varG = float('3.14') #將字串3.14轉作浮點數數值的3.14\n",
        "print(varD, varE, varF,varG, sep=',')"
      ],
      "execution_count": 0,
      "outputs": []
    },
    {
      "cell_type": "code",
      "metadata": {
        "id": "_y-NtSRMAlzu",
        "colab_type": "code",
        "colab": {
          "base_uri": "https://localhost:8080/",
          "height": 34
        },
        "outputId": "0a572ee6-b2bf-4fd6-8f51-7fff1a698f16"
      },
      "source": [
        "print(\"Art: {0:5d}, Price per Unit: {1:8.2f}\".format(435, 59.058))\n"
      ],
      "execution_count": 7,
      "outputs": [
        {
          "output_type": "stream",
          "text": [
            "Art:   435, Price per Unit:    59.06\n"
          ],
          "name": "stdout"
        }
      ]
    },
    {
      "cell_type": "code",
      "metadata": {
        "id": "v9zUebocAw0_",
        "colab_type": "code",
        "colab": {
          "base_uri": "https://localhost:8080/",
          "height": 34
        },
        "outputId": "9c230fe6-6987-4cbc-8db0-ea8591d7234d"
      },
      "source": [
        "numbers = [1, 2, 3, 4, 5, 6, 7, 8, 9]\n",
        "print(numbers)"
      ],
      "execution_count": 8,
      "outputs": [
        {
          "output_type": "stream",
          "text": [
            "[1, 2, 3, 4, 5, 6, 7, 8, 9]\n"
          ],
          "name": "stdout"
        }
      ]
    },
    {
      "cell_type": "code",
      "metadata": {
        "id": "pcsnBzlQA-FR",
        "colab_type": "code",
        "colab": {
          "base_uri": "https://localhost:8080/",
          "height": 34
        },
        "outputId": "e6515aa4-7d42-4a31-8371-ce78c49c9b08"
      },
      "source": [
        "for n in numbers:\n",
        "  print(n, end=' ')"
      ],
      "execution_count": 9,
      "outputs": [
        {
          "output_type": "stream",
          "text": [
            "1 2 3 4 5 6 7 8 9 "
          ],
          "name": "stdout"
        }
      ]
    },
    {
      "cell_type": "code",
      "metadata": {
        "id": "5az6blDBBUX_",
        "colab_type": "code",
        "colab": {
          "base_uri": "https://localhost:8080/",
          "height": 170
        },
        "outputId": "ffb8145b-e8a2-44a2-ae65-46a72037c052"
      },
      "source": [
        "for n in numbers:\n",
        "  print(n, end=' ')\n",
        "  for m in numbers:\n",
        "    print(\"{0:2d}\".format(m*n), end=' ')\n",
        "  print()"
      ],
      "execution_count": 14,
      "outputs": [
        {
          "output_type": "stream",
          "text": [
            "1  1  2  3  4  5  6  7  8  9 \n",
            "2  2  4  6  8 10 12 14 16 18 \n",
            "3  3  6  9 12 15 18 21 24 27 \n",
            "4  4  8 12 16 20 24 28 32 36 \n",
            "5  5 10 15 20 25 30 35 40 45 \n",
            "6  6 12 18 24 30 36 42 48 54 \n",
            "7  7 14 21 28 35 42 49 56 63 \n",
            "8  8 16 24 32 40 48 56 64 72 \n",
            "9  9 18 27 36 45 54 63 72 81 \n"
          ],
          "name": "stdout"
        }
      ]
    },
    {
      "cell_type": "code",
      "metadata": {
        "id": "q9p3l-mPCU_Y",
        "colab_type": "code",
        "colab": {
          "base_uri": "https://localhost:8080/",
          "height": 170
        },
        "outputId": "a0cd87ae-2fb0-4249-cce8-49d6ca698df1"
      },
      "source": [
        "for n in  range(1, 10):\n",
        "  print(n, end=' ')\n",
        "  for m in  range(1, 10):\n",
        "    print(\"{0:2d}\".format(m*n), end=' ')\n",
        "  print()"
      ],
      "execution_count": 15,
      "outputs": [
        {
          "output_type": "stream",
          "text": [
            "1  1  2  3  4  5  6  7  8  9 \n",
            "2  2  4  6  8 10 12 14 16 18 \n",
            "3  3  6  9 12 15 18 21 24 27 \n",
            "4  4  8 12 16 20 24 28 32 36 \n",
            "5  5 10 15 20 25 30 35 40 45 \n",
            "6  6 12 18 24 30 36 42 48 54 \n",
            "7  7 14 21 28 35 42 49 56 63 \n",
            "8  8 16 24 32 40 48 56 64 72 \n",
            "9  9 18 27 36 45 54 63 72 81 \n"
          ],
          "name": "stdout"
        }
      ]
    },
    {
      "cell_type": "code",
      "metadata": {
        "id": "EQiJQpF0Dj5I",
        "colab_type": "code",
        "colab": {
          "base_uri": "https://localhost:8080/",
          "height": 71
        },
        "outputId": "7bfacf37-aef1-47e3-d249-53bc381d8228"
      },
      "source": [
        "fin=open('score.txt')\n",
        "count = 0\n",
        "for line in fin:\n",
        "  count +=1\n",
        "  print(line.strip(), end=\",\")\n",
        "print()\n",
        "print(\"Numbers=\", count)"
      ],
      "execution_count": 23,
      "outputs": [
        {
          "output_type": "stream",
          "text": [
            "85,15,80,80,77,76,47,48,50,50,88,90,75,67,79,76,92,90,90,48,15,95,95,85,90,88,86,87,91,82,82,86,89,88,77,69,83,85,82,81,94,72,83,75,87,79,85,84,82,87,86,86,88,83,85,87,84,87,37,90,80,82,83,87,80,68,81,91,84,15,82,87,\n",
            "Numbers= 72\n"
          ],
          "name": "stdout"
        }
      ]
    },
    {
      "cell_type": "code",
      "metadata": {
        "id": "V-b6sVVoEiVg",
        "colab_type": "code",
        "colab": {
          "base_uri": "https://localhost:8080/",
          "height": 34
        },
        "outputId": "67012368-35f8-4060-bf1e-6482f74dd5b4"
      },
      "source": [
        "fin=open('score.txt')\n",
        "count = 0\n",
        "for line in fin:\n",
        "  score = int(line)\n",
        "  if score >60:\n",
        "    count +=1\n",
        "print(\"Pass Numbers=\", count)"
      ],
      "execution_count": 24,
      "outputs": [
        {
          "output_type": "stream",
          "text": [
            "Pass Numbers= 63\n"
          ],
          "name": "stdout"
        }
      ]
    },
    {
      "cell_type": "code",
      "metadata": {
        "id": "-zdxFcDCFAp2",
        "colab_type": "code",
        "colab": {
          "base_uri": "https://localhost:8080/",
          "height": 34
        },
        "outputId": "decb0040-8402-414e-9781-3a0c4cf16cd5"
      },
      "source": [
        "count = 0\n",
        "scores=list()\n",
        "with open('score.txt') as fin:\n",
        "  for line in fin:\n",
        "    score = int(line)\n",
        "    if score >60:\n",
        "      count +=1\n",
        "      scores.append(score)\n",
        "scores.sort(reverse = True)\n",
        "with open('sorted.txt','w')  as fout:\n",
        "  for s in scores:\n",
        "    fout.write(str(s))\n",
        "    fout.write(\"\\n\")\n",
        "print(\"Pass Numbers=\", count)"
      ],
      "execution_count": 29,
      "outputs": [
        {
          "output_type": "stream",
          "text": [
            "Pass Numbers= 63\n"
          ],
          "name": "stdout"
        }
      ]
    }
  ]
}