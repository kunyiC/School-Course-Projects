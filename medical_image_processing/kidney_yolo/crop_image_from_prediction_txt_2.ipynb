{
 "cells": [
  {
   "cell_type": "code",
   "execution_count": 1,
   "metadata": {},
   "outputs": [],
   "source": [
    "base_dir1 = \"D:/0_jupyter_notebooks/medical_image_processing/\""
   ]
  },
  {
   "cell_type": "code",
   "execution_count": 2,
   "metadata": {},
   "outputs": [],
   "source": [
    "text_source_dir = base_dir1 + \"kidney2_prediction_output\"\n",
    "img_source_dir = base_dir1 + \"val\"\n",
    "target_dir = \"D:/\" + \"yolov5_kidney2_cropped_val\""
   ]
  },
  {
   "cell_type": "code",
   "execution_count": null,
   "metadata": {},
   "outputs": [],
   "source": [
    "os.makedirs(target_dir)"
   ]
  },
  {
   "cell_type": "code",
   "execution_count": 3,
   "metadata": {},
   "outputs": [],
   "source": [
    "from numpy import loadtxt\n",
    "from PIL import Image\n",
    "import os\n",
    "\n",
    "def crop_img_from_prediction_txt(text_source_dir, \n",
    "                                 img_source_dir, target_dir):\n",
    "    text_files_list = os.listdir(text_source_dir)\n",
    "    text_files_dir = [os.path.join(\n",
    "        text_source_dir, name) for name in text_files_list]\n",
    "    img_files_list = os.listdir(img_source_dir)\n",
    "    img_files_dir = [os.path.join(\n",
    "        img_source_dir, name) for name in img_files_list]\n",
    "    image_files_dir_list = []\n",
    "\n",
    "    for image_file in img_files_dir:\n",
    "        if image_file.endswith('.jpg'):\n",
    "            image_files_dir_list.append(image_file)\n",
    "    image_files_list = []\n",
    "    for image_file_name in img_files_list:\n",
    "        if image_file_name.endswith('.jpg'):\n",
    "            image_files_list.append(image_file_name)\n",
    "    text_files_dir_list = []\n",
    "    for text_file in text_files_dir:\n",
    "        if text_file.endswith('.txt'):\n",
    "            text_files_dir_list.append(text_file)  \n",
    "\n",
    "    for text_file_dir, img_file_dir, img_name in zip(\n",
    "        text_files_dir_list, image_files_dir_list, image_files_list):\n",
    "\n",
    "        txt_file = loadtxt(text_file_dir)\n",
    "        img_file = Image.open(img_file_dir)\n",
    "\n",
    "        if txt_file.ndim == 1:\n",
    "            class_label = txt_file[0]\n",
    "            xcen = txt_file[1]\n",
    "            ycen = txt_file[2]\n",
    "            w = txt_file[3]\n",
    "            h = txt_file[4]\n",
    "            xmin = max(float(xcen) - float(w) / 2, 0)\n",
    "            xmax = min(float(xcen) + float(w) / 2, 1)\n",
    "            ymin = max(float(ycen) - float(h) / 2, 0)\n",
    "            ymax = min(float(ycen) + float(h) / 2, 1)\n",
    "            xmin = int(img_file.size[1] * xmin)\n",
    "            xmax = int(img_file.size[1] * xmax)\n",
    "            ymin = int(img_file.size[0] * ymin)\n",
    "            ymax = int(img_file.size[0] * ymax)\n",
    "            cropped_img1 = img_file.crop((xmin, ymin, xmax, ymax))\n",
    "            cropped_img1.save(target_dir+\"/\"+img_name+\"_crop.jpg\")\n",
    "\n",
    "        if txt_file.ndim > 1:\n",
    "            img_index = 1\n",
    "            for each_predicted_label in txt_file:\n",
    "                class_label = each_predicted_label[0]\n",
    "                xcen = each_predicted_label[1]\n",
    "                ycen = each_predicted_label[2]\n",
    "                w = each_predicted_label[3]\n",
    "                h = each_predicted_label[4]\n",
    "                xmin = max(float(xcen) - float(w) / 2, 0)\n",
    "                xmax = min(float(xcen) + float(w) / 2, 1)\n",
    "                ymin = max(float(ycen) - float(h) / 2, 0)\n",
    "                ymax = min(float(ycen) + float(h) / 2, 1)\n",
    "                xmin = int(img_file.size[1] * xmin)\n",
    "                xmax = int(img_file.size[1] * xmax)\n",
    "                ymin = int(img_file.size[0] * ymin)\n",
    "                ymax = int(img_file.size[0] * ymax)\n",
    "                cropped_img1 = img_file.crop((xmin, ymin, xmax, ymax))\n",
    "                cropped_img1.save(\n",
    "                    target_dir+\"/\"+img_name+\"_crop_{}.jpg\".format(img_index))\n",
    "                img_index = img_index + 1        "
   ]
  },
  {
   "cell_type": "code",
   "execution_count": 4,
   "metadata": {},
   "outputs": [],
   "source": [
    "text_files_list = os.listdir(text_source_dir)\n",
    "text_files_dir = [os.path.join(\n",
    "    text_source_dir, name) for name in text_files_list]\n",
    "\n",
    "img_files_list = os.listdir(img_source_dir)\n",
    "img_files_dir = [os.path.join(\n",
    "    img_source_dir, name) for name in img_files_list]"
   ]
  },
  {
   "cell_type": "code",
   "execution_count": 6,
   "metadata": {},
   "outputs": [],
   "source": [
    "image_files_dir_list = []\n",
    "for image_file in img_files_dir:\n",
    "    if image_file.endswith('.jpg'):\n",
    "        image_files_dir_list.append(image_file)"
   ]
  },
  {
   "cell_type": "code",
   "execution_count": 10,
   "metadata": {},
   "outputs": [],
   "source": [
    "image_files_list = []\n",
    "for image_file_name in img_files_list:\n",
    "    if image_file_name.endswith('.jpg'):\n",
    "        image_files_list.append(image_file_name)"
   ]
  },
  {
   "cell_type": "code",
   "execution_count": 12,
   "metadata": {},
   "outputs": [],
   "source": [
    "text_files_dir_list = []\n",
    "for text_file in text_files_dir:\n",
    "    if text_file.endswith('.txt'):\n",
    "        text_files_dir_list.append(text_file)"
   ]
  },
  {
   "cell_type": "code",
   "execution_count": 14,
   "metadata": {},
   "outputs": [],
   "source": [
    "for text_file_dir, img_file_dir, img_name in zip(\n",
    "    text_files_dir_list, image_files_dir_list, image_files_list):\n",
    "    \n",
    "    txt_file = loadtxt(text_file_dir)\n",
    "    img_file = Image.open(img_file_dir)\n",
    "    \n",
    "    if txt_file.ndim == 1:\n",
    "        class_label = txt_file[0]\n",
    "        xcen = txt_file[1]\n",
    "        ycen = txt_file[2]\n",
    "        w = txt_file[3]\n",
    "        h = txt_file[4]\n",
    "        xmin = max(float(xcen) - float(w) / 2, 0)\n",
    "        xmax = min(float(xcen) + float(w) / 2, 1)\n",
    "        ymin = max(float(ycen) - float(h) / 2, 0)\n",
    "        ymax = min(float(ycen) + float(h) / 2, 1)\n",
    "        xmin = int(img_file.size[1] * xmin)\n",
    "        xmax = int(img_file.size[1] * xmax)\n",
    "        ymin = int(img_file.size[0] * ymin)\n",
    "        ymax = int(img_file.size[0] * ymax)\n",
    "        cropped_img1 = img_file.crop((xmin, ymin, xmax, ymax))\n",
    "        cropped_img1.save(target_dir+\"/\"+img_name+\"_crop.jpg\")\n",
    "        \n",
    "    if txt_file.ndim > 1:\n",
    "        img_index = 1\n",
    "        for each_predicted_label in txt_file:\n",
    "            class_label = each_predicted_label[0]\n",
    "            xcen = each_predicted_label[1]\n",
    "            ycen = each_predicted_label[2]\n",
    "            w = each_predicted_label[3]\n",
    "            h = each_predicted_label[4]\n",
    "            xmin = max(float(xcen) - float(w) / 2, 0)\n",
    "            xmax = min(float(xcen) + float(w) / 2, 1)\n",
    "            ymin = max(float(ycen) - float(h) / 2, 0)\n",
    "            ymax = min(float(ycen) + float(h) / 2, 1)\n",
    "            xmin = int(img_file.size[1] * xmin)\n",
    "            xmax = int(img_file.size[1] * xmax)\n",
    "            ymin = int(img_file.size[0] * ymin)\n",
    "            ymax = int(img_file.size[0] * ymax)\n",
    "            cropped_img1 = img_file.crop((xmin, ymin, xmax, ymax))\n",
    "            cropped_img1.save(\n",
    "                target_dir+\"/\"+img_name+\"_crop_{}.jpg\".format(img_index))\n",
    "            img_index = img_index + 1"
   ]
  },
  {
   "cell_type": "code",
   "execution_count": null,
   "metadata": {},
   "outputs": [],
   "source": []
  },
  {
   "cell_type": "code",
   "execution_count": null,
   "metadata": {},
   "outputs": [],
   "source": [
    "# img1 = Image.open(base_dir+'17103657_20200806_LL.jpg')\n",
    "# file1 = source_dir+'/'+'17103657_20200806_LL.txt'\n",
    "# file1_txt = loadtxt(file1)\n",
    "# if file1_txt.ndim == 1:\n",
    "#     class_label = file1_txt[0]\n",
    "#     xcen = file1_txt[1]\n",
    "#     ycen = file1_txt[2]\n",
    "#     w = file1_txt[3]\n",
    "#     h = file1_txt[4]\n",
    "#     xmin = max(float(xcen) - float(w) / 2, 0)\n",
    "#     xmax = min(float(xcen) + float(w) / 2, 1)\n",
    "#     ymin = max(float(ycen) - float(h) / 2, 0)\n",
    "#     ymax = min(float(ycen) + float(h) / 2, 1)\n",
    "#     xmin = int(img1.size[1] * xmin)\n",
    "#     xmax = int(img1.size[1] * xmax)\n",
    "#     ymin = int(img1.size[0] * ymin)\n",
    "#     ymax = int(img1.size[0] * ymax)\n",
    "#     cropped_img1 = img1.crop((xmin, ymin, xmax, ymax))\n",
    "#     cropped_img1.save(base_dir+'17103657_20200806_LL_crop.jpg')"
   ]
  },
  {
   "cell_type": "code",
   "execution_count": null,
   "metadata": {},
   "outputs": [],
   "source": []
  },
  {
   "cell_type": "code",
   "execution_count": null,
   "metadata": {},
   "outputs": [],
   "source": []
  },
  {
   "cell_type": "code",
   "execution_count": null,
   "metadata": {},
   "outputs": [],
   "source": []
  },
  {
   "cell_type": "code",
   "execution_count": null,
   "metadata": {},
   "outputs": [],
   "source": []
  },
  {
   "cell_type": "code",
   "execution_count": null,
   "metadata": {},
   "outputs": [],
   "source": []
  }
 ],
 "metadata": {
  "kernelspec": {
   "display_name": "Python 3",
   "language": "python",
   "name": "python3"
  },
  "language_info": {
   "codemirror_mode": {
    "name": "ipython",
    "version": 3
   },
   "file_extension": ".py",
   "mimetype": "text/x-python",
   "name": "python",
   "nbconvert_exporter": "python",
   "pygments_lexer": "ipython3",
   "version": "3.7.7"
  }
 },
 "nbformat": 4,
 "nbformat_minor": 4
}
