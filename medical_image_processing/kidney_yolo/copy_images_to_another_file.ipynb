{
 "cells": [
  {
   "cell_type": "code",
   "execution_count": 1,
   "metadata": {},
   "outputs": [],
   "source": [
    "import os \n",
    "from PIL import Image \n",
    "\n",
    "def copy_file(source_dir, target_dir):\n",
    "    files_list = os.listdir(source_dir)\n",
    "    files_dir = [os.path.join(source_dir, \n",
    "                              name) for name in files_list]\n",
    "    #os.makedirs(target_dir)\n",
    "    for img_file in files_dir:\n",
    "        for img_name in os.listdir(img_file):\n",
    "            img_dir = os.path.join(img_file, img_name)\n",
    "            if img_dir.endswith('.tif'):\n",
    "                image = Image.open(img_dir)\n",
    "                #image_copied = image.copy()\n",
    "                #print(target_dir+\"/\"+img_name[0:-3]+'jpg')\n",
    "                image.save(target_dir+\"/\"+img_name)\n",
    "    print(\"finish\")"
   ]
  },
  {
   "cell_type": "code",
   "execution_count": 2,
   "metadata": {},
   "outputs": [],
   "source": [
    "base_dir = \"D:/OneDrive - 亞洲大學[Asia University](1)/Research/CS/pro_tasi/kidney/ultrasound_kidney_datasets/\"\n",
    "source_dir = base_dir + \"original_datasets/kidney_ultrasound_data4\"\n",
    "target_dir = base_dir + \"changed_datasets_1_make_all_imgs_in_one_file/kidney_dataset_4_all_imgs_in_one_folder_no_UB\""
   ]
  },
  {
   "cell_type": "code",
   "execution_count": 3,
   "metadata": {},
   "outputs": [
    {
     "name": "stdout",
     "output_type": "stream",
     "text": [
      "finish\n"
     ]
    }
   ],
   "source": [
    "copy_file(source_dir, target_dir)"
   ]
  },
  {
   "cell_type": "code",
   "execution_count": null,
   "metadata": {},
   "outputs": [],
   "source": []
  },
  {
   "cell_type": "code",
   "execution_count": 4,
   "metadata": {},
   "outputs": [],
   "source": [
    "files_list = os.listdir(source_dir)\n",
    "files_dir = [os.path.join(source_dir, \n",
    "                          name) for name in files_list]\n",
    "img_name_list = []\n",
    "#os.makedirs(target_dir)\n",
    "for img_file in files_dir:\n",
    "    for img_name in os.listdir(img_file):\n",
    "        if img_name.endswith('.tif'):\n",
    "            img_name_list.append(img_name)"
   ]
  },
  {
   "cell_type": "code",
   "execution_count": 5,
   "metadata": {},
   "outputs": [
    {
     "data": {
      "text/plain": [
       "111"
      ]
     },
     "execution_count": 5,
     "metadata": {},
     "output_type": "execute_result"
    }
   ],
   "source": [
    "len(img_name_list)"
   ]
  },
  {
   "cell_type": "code",
   "execution_count": 6,
   "metadata": {},
   "outputs": [],
   "source": [
    "for img_file in img_name_list:\n",
    "    if img_file.endswith('UB.tif'):\n",
    "        img_name_list.remove(img_file)"
   ]
  },
  {
   "cell_type": "code",
   "execution_count": 7,
   "metadata": {},
   "outputs": [
    {
     "data": {
      "text/plain": [
       "88"
      ]
     },
     "execution_count": 7,
     "metadata": {},
     "output_type": "execute_result"
    }
   ],
   "source": [
    "len(img_name_list)"
   ]
  },
  {
   "cell_type": "code",
   "execution_count": null,
   "metadata": {},
   "outputs": [],
   "source": []
  }
 ],
 "metadata": {
  "kernelspec": {
   "display_name": "Python 3",
   "language": "python",
   "name": "python3"
  },
  "language_info": {
   "codemirror_mode": {
    "name": "ipython",
    "version": 3
   },
   "file_extension": ".py",
   "mimetype": "text/x-python",
   "name": "python",
   "nbconvert_exporter": "python",
   "pygments_lexer": "ipython3",
   "version": "3.7.7"
  }
 },
 "nbformat": 4,
 "nbformat_minor": 4
}
