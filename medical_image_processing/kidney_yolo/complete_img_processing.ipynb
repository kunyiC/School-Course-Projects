{
 "cells": [
  {
   "cell_type": "code",
   "execution_count": 1,
   "metadata": {},
   "outputs": [],
   "source": [
    "import numpy as np\n",
    "import cv2\n",
    "from PIL import Image    \n",
    "import matplotlib.pyplot as plt   \n",
    "import matplotlib.image as mpimg\n",
    "from matplotlib.colors import NoNorm\n",
    "from skimage import transform\n",
    "from glob import glob\n",
    "import imageio\n",
    "%matplotlib inline"
   ]
  },
  {
   "cell_type": "code",
   "execution_count": 2,
   "metadata": {},
   "outputs": [],
   "source": [
    "from collections import deque\n",
    "import os\n",
    "import os.path\n",
    "import random\n",
    "import string\n",
    "\n",
    "def random_renames(files):\n",
    "    \"\"\"\n",
    "    Generate a list of randomised renames to shuffle a list of files.\n",
    "\n",
    "    Example:\n",
    "        random_renames([\"a\", \"b\", \"c\"])\n",
    "    This might generate:\n",
    "        (\"a\", \"c\"), (\"b\", \"a\"), (\"c\", \"b\")\n",
    "\n",
    "    Where each tuple indicates first the original name, and then the new name\n",
    "    of the file.\n",
    "    \"\"\"\n",
    "\n",
    "    remaining_names = files[:]  # Note: copying the list because we will modify this one\n",
    "\n",
    "    for orig in files:\n",
    "        # Find a list of potential new names, which is all unused names, except\n",
    "        # the current filename\n",
    "        potential_names = [name for name in remaining_names if name != orig]\n",
    "        # Pick one from that list and remove it from our pool of unused names\n",
    "        newname = random.choice(potential_names)\n",
    "        remaining_names.remove(newname)\n",
    "\n",
    "        # Output this rename from the generator\n",
    "        yield (orig, newname)\n",
    "\n",
    "\n",
    "def main(path):\n",
    "    \"\"\"\n",
    "    Renames files in the 'shuffleme' directory in such a way as to shuffle all\n",
    "    of them between their existing names.\n",
    "    \"\"\"\n",
    "    # I just created a directory called \"shuffleme\" in CWD, replace this with\n",
    "    # your full path if necessary\n",
    "    path = path\n",
    "\n",
    "    # Get the existing files from that directory\n",
    "    files = os.listdir(path)\n",
    "\n",
    "    # Prefix all the names with the dir name\n",
    "    files = [os.path.join(path, name) for name in files]\n",
    "\n",
    "    # Generate our list of randomised renames from the directory list.  This is\n",
    "    # a deque for reasons that might be clearer later on.  (A deque is like a\n",
    "    # list but designed for fast adding/removing from either end)\n",
    "    file_renames = deque(random_renames(files))\n",
    "\n",
    "    while file_renames:  # While there are still files left to rename\n",
    "        # Get our first intended rename\n",
    "        oldname, newname = file_renames.popleft()\n",
    "\n",
    "        # Avoid trying to rename files to the same name. This involves adding\n",
    "        # random characters to the name until we hit on a name that doesn't\n",
    "        # exist, then renaming to this compromise of a name, and then delaying\n",
    "        # the rename to the real name.\n",
    "        tempname = newname\n",
    "        while os.path.exists(tempname):\n",
    "            tempname += random.choice(string.ascii_letters)\n",
    "\n",
    "        # If we did have to change names...\n",
    "        if tempname != newname:\n",
    "            # ... then remember to rename to the new name\n",
    "            file_renames.append((tempname, newname))\n",
    "            # Sanity check: we definitely *are* going to rename the original\n",
    "            # user of this name away, right? If not, we're in for an infinite\n",
    "            # loop.\n",
    "            assert any(name == newname for name, _ in file_renames)\n",
    "\n",
    "        # Perform the actual rename. Not renaming to newname (actual new name),\n",
    "        # but tempname (same as newname unless that file exists, in which case\n",
    "        # we already delayed a separate rename).\n",
    "        os.rename(oldname, tempname)"
   ]
  },
  {
   "cell_type": "code",
   "execution_count": 3,
   "metadata": {},
   "outputs": [],
   "source": [
    "# Function to rename all files \n",
    "\n",
    "def rename_imgs(file_dir, new_img_name): \n",
    "    i = 1      \n",
    "    for ori_img_name in os.listdir(file_dir): \n",
    "        dst = new_img_name + \"_\" + str(i) + \".jpg\"\n",
    "        src = file_dir + \"/\" + ori_img_name \n",
    "        dst = file_dir + \"/\" + dst \n",
    "        os.rename(src, dst) \n",
    "        i += 1"
   ]
  },
  {
   "cell_type": "code",
   "execution_count": 4,
   "metadata": {},
   "outputs": [],
   "source": [
    "def shuffle_rename(file_dir, new_img_name):\n",
    "    main(file_dir)\n",
    "    rename_imgs(file_dir, new_img_name)"
   ]
  },
  {
   "cell_type": "code",
   "execution_count": 5,
   "metadata": {},
   "outputs": [],
   "source": [
    "def crop_center_square_and_resize(input_img):\n",
    "    #pil_img = Image.open(input_img)\n",
    "    pil_img = input_img\n",
    "    crop_width, crop_height = min(pil_img.size), min(pil_img.size)\n",
    "    img_width, img_height = pil_img.size\n",
    "    left = (img_width - crop_width) // 2\n",
    "    top = (img_height - crop_height) // 2\n",
    "    right = (img_width + crop_width) // 2\n",
    "    bottom = (img_height + crop_height) // 2\n",
    "    cropped_img = pil_img.crop((left, top, right, bottom))\n",
    "    resized_img = cropped_img.resize((640, 640))\n",
    "    return resized_img"
   ]
  },
  {
   "cell_type": "code",
   "execution_count": 6,
   "metadata": {},
   "outputs": [],
   "source": [
    "from PIL import Image, ImageOps\n",
    "\n",
    "def fill_black(img): \n",
    "    #img = Image.open(img)\n",
    "    img_with_border = ImageOps.expand(img,border=100,fill='black')\n",
    "    #final_img = crop_center_square_and_resize(img_with_border)\n",
    "    return img_with_border"
   ]
  },
  {
   "cell_type": "code",
   "execution_count": 7,
   "metadata": {},
   "outputs": [],
   "source": [
    "def crop_and_resize_img(source_dir, target_dir):\n",
    "    os.makedirs(target_dir+\"/\")\n",
    "    jpgdata = glob(os.path.join(source_dir+\"/\",\"*.jpg\"))\n",
    "    jpgdata = np.sort(jpgdata)\n",
    "    for i in range(0,jpgdata.size,1):\n",
    "        image = Image.open(jpgdata[i])\n",
    "        filled_img = fill_black(image)\n",
    "        final_img = crop_center_square_and_resize(filled_img)\n",
    "        if final_img.mode in (\"RGBA\", \"P\"):\n",
    "            final_img = final_img.convert(\"RGB\")\n",
    "#         imageio.imwrite(target_dir+\"/resized_{}\".format(i)+\".jpg\", \n",
    "#                         final_img)\n",
    "        final_img.save(target_dir+\"/resized_{}\".format(i)+\".jpg\")\n",
    "    print(\"image processing is finished\")"
   ]
  },
  {
   "cell_type": "code",
   "execution_count": null,
   "metadata": {},
   "outputs": [],
   "source": []
  },
  {
   "cell_type": "code",
   "execution_count": 8,
   "metadata": {},
   "outputs": [],
   "source": [
    "# file_dir = 'D:/image_datasets_deeplearning/kidney_ultrasound_imageSet'\n",
    "# new_img_name = 'kidney_img'\n",
    "# shuffle_rename(file_dir, new_img_name)"
   ]
  },
  {
   "cell_type": "code",
   "execution_count": 11,
   "metadata": {},
   "outputs": [],
   "source": [
    "base_dir = \"D:/OneDrive - 亞洲大學[Asia University](1)/Research/CS/pro_tasi/kidney/kidney_20200821T101308Z_001/datasets/images\"\n",
    "source_dir = base_dir + \"/train\"\n",
    "target_dir = base_dir + \"/train_resized\""
   ]
  },
  {
   "cell_type": "code",
   "execution_count": 12,
   "metadata": {},
   "outputs": [
    {
     "name": "stdout",
     "output_type": "stream",
     "text": [
      "image processing is finished\n"
     ]
    }
   ],
   "source": [
    "crop_and_resize_img(source_dir, target_dir)"
   ]
  },
  {
   "cell_type": "code",
   "execution_count": null,
   "metadata": {},
   "outputs": [],
   "source": []
  }
 ],
 "metadata": {
  "kernelspec": {
   "display_name": "Python 3",
   "language": "python",
   "name": "python3"
  },
  "language_info": {
   "codemirror_mode": {
    "name": "ipython",
    "version": 3
   },
   "file_extension": ".py",
   "mimetype": "text/x-python",
   "name": "python",
   "nbconvert_exporter": "python",
   "pygments_lexer": "ipython3",
   "version": "3.7.7"
  }
 },
 "nbformat": 4,
 "nbformat_minor": 4
}
